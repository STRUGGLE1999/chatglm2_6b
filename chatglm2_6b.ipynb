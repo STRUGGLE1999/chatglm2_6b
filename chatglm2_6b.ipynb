{
 "cells": [
  {
   "cell_type": "code",
   "execution_count": 3,
   "id": "fc5cef6b-4f3a-42a2-8e56-61f55424aac2",
   "metadata": {},
   "outputs": [],
   "source": [
    "chatglm2_6b_lora_path = \"/home/ma-user/work/chatglm2_6b_lora\""
   ]
  },
  {
   "cell_type": "code",
   "execution_count": 2,
   "id": "c4852388-8c28-417d-8196-93d64839347b",
   "metadata": {},
   "outputs": [
    {
     "name": "stderr",
     "output_type": "stream",
     "text": [
      "INFO:root:Using MoXing-v2.2.3.2c7f2141-2c7f2141\n",
      "INFO:root:Using OBS-Python-SDK-3.20.9.1\n",
      "INFO:root:Using OBS-C-SDK-2.23.1\n",
      "INFO:root:An exception occurred in function copy_parallel_c: /home/ma-user/anaconda3/envs/MindSpore/lib/python3.9/site-packages/moxing/framework/file/csrc/obs/lib/aarch64/libobs_cxx.so: cannot open shared object file: No such file or directory\n",
      "INFO:root:load shared library failed, retry with copy parallel python\n",
      "INFO:root:Multiprocessing connection patch for bpo-17560 not applied, not an applicable Python version: 3.9.10 | packaged by conda-forge | (main, Feb  1 2022, 21:53:27) \n",
      "[GCC 9.4.0]\n",
      "INFO:root:Listing OBS: 1000\n",
      "INFO:root:List OBS time cost: 1.87 seconds.\n",
      "INFO:root:1000/1010\n",
      "INFO:root:Copy parallel total time cost: 3.41 seconds.\n"
     ]
    }
   ],
   "source": [
    "import moxing as mox\n",
    "\n",
    "mox.file.copy_parallel(\"obs://dtse-models-guiyang1/competition/glm2/chatglm2_6b_lora/\", chatglm2_6b_lora_path)"
   ]
  },
  {
   "cell_type": "code",
   "execution_count": 5,
   "id": "a13df299-e22c-4748-99f9-d868367e2f5a",
   "metadata": {},
   "outputs": [],
   "source": [
    "mox.file.copy(\"obs://chatglm-3df5/checkpoint/glm2-6b-lora_rank_0-1250_4.ckpt\", \"/cache/glm2_6b.ckpt\")"
   ]
  },
  {
   "cell_type": "code",
   "execution_count": 1,
   "id": "3cd0e5a2-b9ad-40ad-8f03-1529b49f4568",
   "metadata": {},
   "outputs": [
    {
     "name": "stderr",
     "output_type": "stream",
     "text": [
      "INFO:root:Using MoXing-v2.2.3.2c7f2141-2c7f2141\n",
      "INFO:root:Using OBS-Python-SDK-3.20.9.1\n",
      "INFO:root:Using OBS-C-SDK-2.23.1\n",
      "\n",
      "KeyboardInterrupt\n",
      "\n"
     ]
    }
   ],
   "source": [
    "# 下载预训练模型\n",
    "\n",
    "import moxing as mox\n",
    "\n",
    "mox.file.copy(\"obs://llm-mindspore-ei/wxp/chatglm2-6b/glm2_6b_ms.ckpt\", \"/cache/glm2_6b.ckpt\")"
   ]
  },
  {
   "cell_type": "code",
   "execution_count": null,
   "id": "9086dbad-bd88-4e29-af5a-34a59f59ece7",
   "metadata": {},
   "outputs": [],
   "source": [
    "!pip install -r $chatglm2_6b_lora_path/mindformers/requirements.txt"
   ]
  },
  {
   "cell_type": "code",
   "execution_count": 10,
   "id": "dd439755-081b-4c23-b60b-83fbd3497a79",
   "metadata": {},
   "outputs": [
    {
     "name": "stdout",
     "output_type": "stream",
     "text": [
      "/home/ma-user/work/chatglm2_6b_lora/mindformers/scripts\n"
     ]
    },
    {
     "name": "stderr",
     "output_type": "stream",
     "text": [
      "/home/ma-user/anaconda3/envs/MindSpore/lib/python3.9/site-packages/IPython/core/magics/osm.py:417: UserWarning: using dhist requires you to install the `pickleshare` library.\n",
      "  self.shell.db['dhist'] = compress_dhist(dhist)[-100:]\n"
     ]
    }
   ],
   "source": [
    "%cd $chatglm2_6b_lora_path/mindformers/scripts"
   ]
  },
  {
   "cell_type": "code",
   "execution_count": 6,
   "id": "aeef183a-5865-4e63-9ed9-d2f0f08abc43",
   "metadata": {},
   "outputs": [],
   "source": [
    "!rm -rf ./mf_standalone\n",
    "!mkdir ./mf_standalone\n",
    "!cp ../*.py ./mf_standalone\n",
    "!cp -r ../configs ./mf_standalone\n",
    "!cp -r ../mindformers ./mf_standalone"
   ]
  },
  {
   "cell_type": "code",
   "execution_count": 7,
   "id": "4ce4bb2c-8de4-4783-a918-272fdf367682",
   "metadata": {},
   "outputs": [
    {
     "name": "stdout",
     "output_type": "stream",
     "text": [
      "ls: cannot access '/cache/ma-user-work/checkpoint/rank_0/': No such file or directory\n"
     ]
    }
   ],
   "source": [
    "%ll /cache/ma-user-work/checkpoint/rank_0/ -h"
   ]
  },
  {
   "cell_type": "code",
   "execution_count": 11,
   "id": "21cf3505-d821-4640-ada8-97c65f9dd608",
   "metadata": {},
   "outputs": [],
   "source": [
    "finetuning_model_path = \"/cache/glm2_6b.ckpt\""
   ]
  },
  {
   "cell_type": "code",
   "execution_count": 8,
   "id": "36953fd4-e536-4c21-a8e6-465bb372336d",
   "metadata": {},
   "outputs": [],
   "source": [
    "!mkdir -p $chatglm2_6b_lora_path/mindformers/scripts/mf_standalone/checkpoint_download/glm2\n",
    "!cp $chatglm2_6b_lora_path/tokenizer.model $chatglm2_6b_lora_path/mindformers/scripts/mf_standalone/checkpoint_download/glm2/tokenizer.model"
   ]
  },
  {
   "cell_type": "code",
   "execution_count": 12,
   "id": "26bb2ace-2ebc-40d0-bd6f-33d854d84a9c",
   "metadata": {},
   "outputs": [
    {
     "name": "stdout",
     "output_type": "stream",
     "text": [
      "/home/ma-user/work/chatglm2_6b_lora/mindformers/scripts/mf_standalone\n"
     ]
    }
   ],
   "source": [
    "%cd mf_standalone/"
   ]
  },
  {
   "cell_type": "code",
   "execution_count": 13,
   "id": "c10a142e-c5ce-4201-97a3-f0641d536e94",
   "metadata": {},
   "outputs": [
    {
     "name": "stdout",
     "output_type": "stream",
     "text": [
      "2023-12-05 22:44:39,453 - mindformers[text_generator.py:434] - INFO - total time: 286.61087918281555 s; generated tokens: 1032 tokens; generate speed: 3.6007007233725274 tokens/s\n",
      "2023-12-05 22:44:39,457 - mindformers[causal_language_modeling.py:253] - INFO - Step[1/1], cost time 286.6181s, every example cost time is 35.8273, generate speed: 3.6006 tokens/s, avg speed: 0.0000 tokens/s, remaining time: 0:00:00\n",
      "pred is:\n",
      " 口干 症状 常见 口腔 疾病 引起 口干 症状 口干 症状 口干 口干 口干 口干 口干 口干 口干 口干 口干 口干 口干 口干 口干 口干 口干 口干 口干 口干 口干 口干 口干 口干 口干 口干 口干 口干 口干 口干 口干 口干 口干 口干 口干 口干 口干\n",
      " label is:\n",
      " 口干症的治疗包括病因治疗和对症治疗。对因治疗在明确病因的情况下是最有效的，如药物性口干，通过调整药物及其剂量，可缓解口干。对唾液消耗增加而产生的口干，可通过消除张口呼吸等原因来解决。如果是由于唾液腺实质破坏所引起的口感，如头颈部恶性肿瘤放疗后、舍格伦综合征，目前主要通过对症治疗来缓解口干，减少并发症。\n",
      "Building prefix dict from the default dictionary ...\n",
      "DEBUG:jieba:Building prefix dict from the default dictionary ...\n",
      "Dumping model to file cache /tmp/jieba.cache\n",
      "DEBUG:jieba:Dumping model to file cache /tmp/jieba.cache\n",
      "Loading model cost 1.388 seconds.\n",
      "DEBUG:jieba:Loading model cost 1.388 seconds.\n",
      "Prefix dict has been built successfully.\n",
      "DEBUG:jieba:Prefix dict has been built successfully.\n",
      "pred is:\n",
      " 肾癌 转移 骨头 存活 时间 肾癌 转移 骨头 存活 时间 肾癌 转移 骨头 存活 时间 肾癌 转移 骨头 存活 时间 肾癌 转移 骨头 存活 时间 肾癌 转移 骨头 存活 时间 肾癌 转移 骨头 存活 时间 肾癌 转移 骨头 存活 时间 肾癌 转移 骨头 存活 时间 肾癌 转移 骨头 存活 时间 肾癌 转移 骨头 存活 时间 肾癌 转移 骨头 存活 时间 肾癌 转移 骨头 \n",
      " label is:\n",
      " 不同类型的肿瘤骨转移后生存时间不同，像乳腺癌、前列腺癌、甲状腺癌，这类肿瘤本身发展比较缓慢，骨转移病人活5年以上也是有的。所以，发生骨转移以后，存活时间长短，要看患者是什么癌症，发生在哪个部位的骨转移，是单发骨转移还是多发骨转移，身体其他地方如肺部、脑部及肝脏有没有合并转移。即使是同一种癌症，每个患者的存活期间长短也都有很大的差异。常见三个易发生骨转移的肿瘤中，肺癌骨转移，中位数存活期大约6－8个月。乳癌骨转移中位数存活期是20个月。前列腺癌骨转移中位数存活期则是53个月。其实骨转移本身很少会致命，但骨转\n",
      "pred is:\n",
      " 子宫 小并且 子宫内膜 薄 需要 调理 多久 子宫 小并且 子宫内膜 薄 需要 调理 多久 子宫 小并且 子宫内膜 薄 需要 调理 多久 子宫 小并且 子宫内膜 薄 需要 调理 多久 子宫 小并且 子宫内膜 薄 需要 调理 多久 子宫 小并且 子宫内膜 薄 需要 调理 多久 子宫 小并且 子宫内膜 薄 需要 调理 多久 子宫 小并且 子宫内膜 薄 需要 调理 多久 子宫 小并且 子宫内膜 薄 需要 调理 多久 子宫\n",
      " label is:\n",
      " 一个月后可能会恢复的。子宫内膜薄是生活中一种常见的疾病，女性的子宫内膜厚度不足8毫米就称之为子宫内膜薄。病因多是因为患者雌激素水平较低，孕激素水平不足，缺少生长激素等。发病人群多集中于多次流产的女性，雌激素水平不足的女性和久病导致身体虚弱的女性中。子宫内膜薄对女性的身体伤害较大，可能会导致女性难以怀孕，易流产，甚至还可能会诱发其他的妇科疾病。一般的子宫内膜薄是无法通过手术治疗的办法来增厚的，手术疗法只适用于由于内膜粘连和损伤引起的子宫内膜薄。也就是说，其他的患者只能通过药物治疗加上日常生活中的调养来治疗。\n",
      "pred is:\n",
      " 躁郁症 一种 心理障碍 主要 表现 情绪 低落 焦虑 抑郁 躁郁症 患者 情绪 波动 非常 明显 患者 情绪 低落 焦虑 抑郁 情绪 波动 非常 明显 躁郁症 患者 情绪 波动 非常 明显 躁郁症 患者 情绪 波动 非常 明显 躁郁症 患者 情绪 波动 非常 明显 躁郁症 患者 情绪 波动 非常 明显 躁郁症 患者 情绪 波动 非常 明显 躁郁\n",
      " label is:\n",
      " 躁郁症心理治疗办法，病程短者，以认知行为治疗和人本治疗为主，对人格、心理各个方面深化分析，也可停止肉体剖析式治疗；病程长者，倡议参与康复心理治疗。躁郁症目前的心理治疗的办法，普通还是主张认知行为治疗为主，以心理治疗办法为首选，假如患者有这些请求，希望对本人内心停止探究，然后对本人理解的更多，对本人的人格、心理各个方面有更深化的分析,也是能够停止肉体剖析式的治疗的。但是假如这个疾病患病时间比拟长，对一个人的社会功用毁坏严重一些的话，倡议他去参与一些康复心理方面的治疗。假如你曾经肯定她有躁郁症，最好的协助当然\n",
      "pred is:\n",
      " 慢性 宫颈炎 一种 常见 妇科疾病 治疗 方法 很多 患者 需要 手术 治疗 患者 需要 积极 治疗 慢性 宫颈炎 患者 需要 积极 治疗 慢性 宫颈炎 患者 需要 积极 治疗 慢性 宫颈炎 患者 需要 积极 治疗 慢性 宫颈炎 患者 需要 积极 治疗 慢性 宫颈炎 患者 需要 积极 治疗 慢性 宫颈炎 患者 需要 积极 治疗 慢性 宫颈炎 患者 需要 积极 治疗 慢性 \n",
      " label is:\n",
      " 宫颈炎是现在比较常见的一种妇科疾病，分为急性宫颈炎和慢性宫颈炎。多发生于生育年龄的女性。急性宫颈炎常与急性子宫内膜炎或急性阴道炎同时存在，但以慢性宫颈炎多见。子宫颈部鳞状上皮与阴道鳞状相延续，阴道炎症均可引起子宫颈炎症。宫颈炎多数为宫颈慢性炎症，急性宫颈炎较少见，多数情况下仅见于特殊人群。多数女性皆可发生慢性宫颈炎，临床观察发现手术切取的宫颈标本中，绝大多数存在慢性宫颈炎。该疾病临床表现较多，如白带异常、瘙痒、出血等，但该类症状出现概率较低，多数患者无任何症状。因此，无任何症状的慢性宫颈炎无需进行治疗，有\n",
      "pred is:\n",
      " 肺炎链球菌性 肺炎 主要 细菌 感染 引起 肺炎 主要 致病菌 肺炎 链球菌 肺炎 链球菌 肺炎 链球菌 肺炎 链球菌 肺炎 链球菌 肺炎 链球菌 肺炎 链球菌 肺炎 链球菌 肺炎 链球菌 肺炎 链球菌 肺炎 链球菌 肺炎 链球菌 肺炎 链球菌 肺炎 链球菌 肺炎 链球菌 肺炎 链球菌 肺炎 链球菌 肺炎 \n",
      " label is:\n",
      " (一)治疗1.抗菌治疗 应尽早开始。青霉素水剂80万～200万U每12小时肌注1次;如有休克可改静脉注射，疗程至少1周，或至体温降达正常后72h为止。停药过早，易致复发。如病人能口服而不适于注射给药，可先予一针普鲁卡因青霉素，继以口服青霉素V，至少250mg，每6小时1次。青霉素治疗疗效显著，菌血症经数小时即被清除;半数以上病人在48h内体温可骤降至正常，不久又复起低热，持续数小时至数天再降至正常;另一半则退热较缓，经4～7天才正常。2.支持对症疗法 卧床休息，流食，好转后渐改半流食或软食。补充液体及电解\n",
      "pred is:\n",
      " 股癣 一种 皮肤病 股癣 主要 发生 股部 皮肤 股癣 主要 发生 股部 皮肤 股癣 主要 发生 股部 皮肤 股癣 主要 发生 股部 皮肤 股癣 主要 发生 股部 皮肤 股癣 主要 发生 股部 皮肤 股癣 主要 发生 股部 皮肤 股癣 主要 发生 股部 皮肤 股癣 主要 发生 股部 皮肤 股癣 主要 发生 股部 皮肤\n",
      " label is:\n",
      " 股癣能导致外阴瘙痒，疼痛。股癣是一种比较常见的皮肤病变，一般是发生在大腿的部位，但是因为大腿根和阴部位置很近，所以大腿根部的股癣会导致蔓延到外阴，导致外阴瘙痒、疼痛。股藓的症状：股癣最初通常为大腿根部的红色斑片。其典型表现为中间部分消退，而边缘清楚且略微隆起，就像“一个红圈连着一个红圈”，有的斑片还伴有水泡。股癣多源于真菌感染，其中以红色毛癣菌、絮状表皮癣菌以及指/趾间毛癣菌常见。由于真菌喜欢温暖、潮湿的环境，因此大腿根部的环境十分适合真菌繁殖。股癣以男性最为多见，一方面可能是部分男性的卫生习惯不好；另一\n",
      "pred is:\n",
      " 宫颈 偏短 孕妇 怀孕 期间 容易 出现 宫颈 松弛 现象 宫颈 松弛 容易 导致 宫颈 炎症 宫颈 松弛 容易 导致 胎儿 营养 供应 不足 容易 导致 胎儿 发育 不良 孕妇 出现 宫颈 松弛 现象 建议 及时 医院 检查 治疗 宫颈 偏短 孕妇 应该 注意 饮食 方面 合理 搭配 饮食 合理 饮食 孕妇 身体 起到 积极 作用 孕妇 应该 注意 休息 方面 孕妇 应该\n",
      " label is:\n",
      " 每一个孕妇的体质情况都是不同的，如果是宫颈口短的孕妇就需要把更多的精力放在保胎上，因为宫颈口短的孕妇在生育上要比其他的孕妇危险性大一些，那么宫颈口短如何保胎呢?下面我们就来给大家详细地推荐几种宫颈口短的保胎方法，宫颈口短的孕妇可以参照着来学习。对于宫颈管偏短的孕妇，必须要及时减少地面活动，尤其是要暂时停止一切可能会增加腹压的运动或者劳动，建议以卧床静养为主，宫颈管短怎么办。宫颈管偏短可能会引起胎儿早产的风险，对此建议孕妇暂时停止性生活，避免不良风险的发生。对于有早产征兆的孕妇患者，可以针对其实际情况来考虑\n",
      "metric: ADGENMetric\n",
      "rouge-1: 7.7401\n",
      "rouge-2: 0.9936\n",
      "rouge-l: 8.2557\n",
      "bleu-4:  2.0810\n",
      "2023-12-05 22:44:41,013 - mindformers[causal_language_modeling.py:267] - INFO - ...........Evaluate Over!...............\n",
      "/home/ma-user/anaconda3/envs/MindSpore/lib/python3.9/site-packages/moxing/framework/cloud_utils.py:169: ResourceWarning: unclosed <socket.socket fd=121, family=AddressFamily.AF_INET, type=SocketKind.SOCK_STREAM, proto=6, laddr=('127.0.0.1', 47694), raddr=('127.0.0.1', 5208)>\n",
      "  ak, sk, session_token = _decrypt_by_sidecar(ak, sk, session_token, modelarts_scc_port)\n",
      "INFO:root:List OBS time cost: 0.92 seconds.\n",
      "/home/ma-user/anaconda3/envs/MindSpore/lib/python3.9/site-packages/moxing/framework/file/src/obs/client.py:172: ResourceWarning: unclosed file <_io.BufferedReader name='/cache/ma-user-work/log/rank_0/error.log'>\n",
      "  ret = func(*args, **kwargs)\n",
      "INFO:root:Copy parallel total time cost: 0.98 seconds.\n",
      "2023-12-05 22:44:46,092 - mindformers[cloud_adapter.py:195] - INFO - Pull/Push file obs://chatglm-3df5/output-test/ success, cost time: 0.979377\n",
      "sys:1: ResourceWarning: unclosed <ssl.SSLSocket fd=122, family=AddressFamily.AF_INET, type=SocketKind.SOCK_STREAM, proto=6, laddr=('172.16.0.90', 52586), raddr=('100.125.81.3', 443)>\n"
     ]
    }
   ],
   "source": [
    "!python run_mindformer.py --config=configs/glm2/run_glm2_6b_lora_eval.yaml --use_parallel=False --run_mode=\"eval\" --device_id=0 --load_checkpoint=$finetuning_model_path"
   ]
  },
  {
   "cell_type": "code",
   "execution_count": 14,
   "id": "5ca397d8-99f6-4d13-a0c7-9655e31300bb",
   "metadata": {},
   "outputs": [
    {
     "name": "stdout",
     "output_type": "stream",
     "text": [
      "/home/ma-user/work/chatglm2_6b_lora/mindspore_lite_devserver\n"
     ]
    }
   ],
   "source": [
    "%cd $chatglm2_6b_lora_path/mindspore_lite_devserver/"
   ]
  },
  {
   "cell_type": "code",
   "execution_count": null,
   "id": "1a074e27-3d66-4b37-a81a-0bebfdd1147d",
   "metadata": {},
   "outputs": [],
   "source": [
    "!pip install -r mindformers_requirements.txt"
   ]
  },
  {
   "cell_type": "code",
   "execution_count": 1,
   "id": "1c89d90e-713f-4764-82fa-22dc27fc82db",
   "metadata": {},
   "outputs": [],
   "source": [
    "mindir_path = \"/home/ma-user/work/chatglm2_6b_lora/mindir\""
   ]
  },
  {
   "cell_type": "code",
   "execution_count": 17,
   "id": "62b9d844-3bf4-4afa-9fe4-6b9007f775a9",
   "metadata": {},
   "outputs": [
    {
     "name": "stdout",
     "output_type": "stream",
     "text": [
      "2023-12-05 22:48:49,820 - INFO - tokenizer save to path: /home/ma-user/work/chatglm2_6b_lora/mindir/tokenizer\n",
      "2023-12-05 22:48:49,820 - INFO - convert finish, start export mindir, it takes about 5~10 minutes\n",
      "2023-12-05 22:57:29,228 - INFO - mindir export success, output dir: /home/ma-user/work/chatglm2_6b_lora/mindir\n"
     ]
    }
   ],
   "source": [
    "!python ckpt_to_mindir.py --ckpt_path=$finetuning_model_path --tokenize_model_path=$chatglm2_6b_lora_path/tokenizer.model --output_dir=$mindir_path --model_name=glm2 --train_mode=origin --size=6 --seq_length=2048"
   ]
  },
  {
   "cell_type": "code",
   "execution_count": 2,
   "id": "aea7c7c6-b8dd-4bac-91b5-a9bde5b209ce",
   "metadata": {},
   "outputs": [],
   "source": [
    "chatglm2_model_path = \"/home/ma-user/work/chatglm2_model\""
   ]
  },
  {
   "cell_type": "code",
   "execution_count": 19,
   "id": "730205bc-f557-4955-a3ea-c8d246eae3c2",
   "metadata": {},
   "outputs": [
    {
     "name": "stderr",
     "output_type": "stream",
     "text": [
      "INFO:root:An exception occurred in function copy_parallel_c: /home/ma-user/anaconda3/envs/MindSpore/lib/python3.9/site-packages/moxing/framework/file/csrc/obs/lib/aarch64/libobs_cxx.so: cannot open shared object file: No such file or directory\n",
      "INFO:root:load shared library failed, retry with copy parallel python\n",
      "WARNING:root:[MOX_PROFILE] PID 1791: OBS getObjectMetadata called 5 times, avg time used 127.341ms > threshold 30.000ms, log interval 300s.\n",
      "WARNING:root:[MOX_PROFILE] PID 1791: Copy called 2 times, cache hit rate 0.0% (threshold 10.0%), metadata cache hit rate 0.0% (threshold 10.0%), log interval 300s.\n",
      "WARNING:root:[MOX_PROFILE] PID 1791: Exists called 1 times, cache hit rate 0.0% (threshold 10.0%), metadata cache hit rate 0.0% (threshold 10.0%), log interval 300s.\n",
      "INFO:root:Multiprocessing connection patch for bpo-17560 not applied, not an applicable Python version: 3.9.10 | packaged by conda-forge | (main, Feb  1 2022, 21:53:27) \n",
      "[GCC 9.4.0]\n",
      "INFO:root:List OBS time cost: 1.45 seconds.\n",
      "INFO:root:Copy parallel total time cost: 2.25 seconds.\n"
     ]
    }
   ],
   "source": [
    "import moxing as mox\n",
    "\n",
    "mox.file.copy_parallel(\"obs://dtse-models-guiyang1/competition/glm2/chatglm2_model/\", chatglm2_model_path)"
   ]
  },
  {
   "cell_type": "code",
   "execution_count": 20,
   "id": "af984754-e801-4809-9035-89b75277432a",
   "metadata": {},
   "outputs": [
    {
     "name": "stdout",
     "output_type": "stream",
     "text": [
      "Looking in indexes: http://pip.modelarts.private.com:8888/repository/pypi/simple\n",
      "Collecting mindpet==1.0.1\n",
      "  Downloading http://pip.modelarts.private.com:8888/repository/pypi/packages/mindpet/1.0.1/mindpet-1.0.1-py3-none-any.whl (68 kB)\n",
      "\u001b[K     |████████████████████████████████| 68 kB 45.9 MB/s eta 0:00:01\n",
      "\u001b[?25hRequirement already satisfied: pyyaml in /home/ma-user/anaconda3/envs/MindSpore/lib/python3.9/site-packages (from mindpet==1.0.1) (6.0.1)\n",
      "Requirement already satisfied: click in /home/ma-user/anaconda3/envs/MindSpore/lib/python3.9/site-packages (from mindpet==1.0.1) (8.1.7)\n",
      "Installing collected packages: mindpet\n",
      "  Attempting uninstall: mindpet\n",
      "    Found existing installation: mindpet 1.0.2\n",
      "    Uninstalling mindpet-1.0.2:\n",
      "      Successfully uninstalled mindpet-1.0.2\n",
      "Successfully installed mindpet-1.0.1\n",
      "\u001b[33mWARNING: You are using pip version 21.0.1; however, version 23.3.1 is available.\n",
      "You should consider upgrading via the '/home/ma-user/anaconda3/envs/MindSpore/bin/python3.9 -m pip install --upgrade pip' command.\u001b[0m\n"
     ]
    }
   ],
   "source": [
    "!pip install mindpet==1.0.1"
   ]
  },
  {
   "cell_type": "code",
   "execution_count": 3,
   "id": "faaaade9-edf3-4fba-90c6-8c7d3f72dc98",
   "metadata": {},
   "outputs": [
    {
     "name": "stdout",
     "output_type": "stream",
     "text": [
      "/home/ma-user/work/chatglm2_model\n"
     ]
    },
    {
     "name": "stderr",
     "output_type": "stream",
     "text": [
      "/home/ma-user/anaconda3/envs/MindSpore/lib/python3.9/site-packages/IPython/core/magics/osm.py:417: UserWarning: using dhist requires you to install the `pickleshare` library.\n",
      "  self.shell.db['dhist'] = compress_dhist(dhist)[-100:]\n"
     ]
    }
   ],
   "source": [
    "%cd $chatglm2_model_path"
   ]
  },
  {
   "cell_type": "code",
   "execution_count": 4,
   "id": "9ca9d6ec-5fe9-4c15-b982-4334bd36a531",
   "metadata": {},
   "outputs": [
    {
     "name": "stderr",
     "output_type": "stream",
     "text": [
      "/usr/local/Ascend/ascend-toolkit/7.0.RC1/python/site-packages/tbe/tvm/contrib/ccec.py:766: DeprecationWarning: invalid escape sequence \\L\n",
      "  if not dirpath.find(\"AppData\\Local\\Temp\"):\n",
      "/usr/local/Ascend/ascend-toolkit/latest/python/site-packages/tbe/dsl/classifier/transdata/transdata_classifier.py:222: DeprecationWarning: invalid escape sequence \\B\n",
      "  \"\"\"\n",
      "/usr/local/Ascend/ascend-toolkit/latest/python/site-packages/tbe/dsl/unify_schedule/vector/transdata/common/graph/transdata_graph_info.py:140: DeprecationWarning: invalid escape sequence \\c\n",
      "  \"\"\"\n",
      "/home/ma-user/anaconda3/envs/MindSpore/lib/python3.9/site-packages/numpy/core/getlimits.py:499: UserWarning: The value of the smallest subnormal for <class 'numpy.float64'> type is zero.\n",
      "  setattr(self, word, getattr(machar, word).flat[0])\n",
      "/home/ma-user/anaconda3/envs/MindSpore/lib/python3.9/site-packages/numpy/core/getlimits.py:499: UserWarning: The value of the smallest subnormal for <class 'numpy.float32'> type is zero.\n",
      "  setattr(self, word, getattr(machar, word).flat[0])\n",
      "/usr/local/Ascend/ascend-toolkit/latest/python/site-packages/tbe/dsl/unify_schedule/extract_image_patches_without_cbuf_schedule.py:317: SyntaxWarning: \"is not\" with a literal. Did you mean \"!=\"?\n",
      "  if _ is not 1:\n",
      "/home/ma-user/anaconda3/envs/MindSpore/lib/python3.9/site-packages/pandas/compat/numpy/__init__.py:10: DeprecationWarning: distutils Version classes are deprecated. Use packaging.version instead.\n",
      "  _nlv = LooseVersion(_np_version)\n",
      "/home/ma-user/anaconda3/envs/MindSpore/lib/python3.9/site-packages/setuptools/_distutils/version.py:346: DeprecationWarning: distutils Version classes are deprecated. Use packaging.version instead.\n",
      "  other = LooseVersion(other)\n",
      "/home/ma-user/anaconda3/envs/MindSpore/lib/python3.9/site-packages/pandas/compat/numpy/function.py:120: DeprecationWarning: distutils Version classes are deprecated. Use packaging.version instead.\n",
      "  if LooseVersion(__version__) >= LooseVersion(\"1.17.0\"):\n"
     ]
    },
    {
     "name": "stdout",
     "output_type": "stream",
     "text": [
      "2023-12-06 00:27:30,095 - mindformers - INFO - config in the yaml file /home/ma-user/work/chatglm2_model/checkpoint_download/glm2_6b.yaml are used for tokenizer building.\n",
      "2023-12-06 00:27:30,139 - mindformers - WARNING - Can't find the tokenizer_config.json in the file_dict. The content of file_dict is : {}\n",
      "2023-12-06 00:27:30,141 - mindformers - INFO - build tokenizer class name is: ChatGLM2Tokenizer using args {'bos_token': '<sop>', 'eos_token': '<eop>', 'end_token': '</s>', 'mask_token': '[MASK]', 'gmask_token': '[gMASK]', 'pad_token': '<pad>', 'unk_token': '<unk>', 'vocab_file': '/home/ma-user/work/chatglm2_model/checkpoint_download/tokenizer.model'}.\n"
     ]
    },
    {
     "name": "stderr",
     "output_type": "stream",
     "text": [
      "WARNING:root:mslite ascendc custom kernel path not found\n",
      "/usr/local/Ascend/ascend-toolkit/latest/python/site-packages/tbe/dsl/unify_schedule/extract_image_patches_without_cbuf_schedule.py:317: SyntaxWarning: \"is not\" with a literal. Did you mean \"!=\"?\n",
      "  if _ is not 1:\n",
      "/usr/local/Ascend/ascend-toolkit/latest/python/site-packages/tbe/dsl/unify_schedule/extract_image_patches_without_cbuf_schedule.py:317: SyntaxWarning: \"is not\" with a literal. Did you mean \"!=\"?\n",
      "  if _ is not 1:\n",
      "/usr/local/Ascend/ascend-toolkit/latest/python/site-packages/tbe/dsl/unify_schedule/extract_image_patches_without_cbuf_schedule.py:317: SyntaxWarning: \"is not\" with a literal. Did you mean \"!=\"?\n",
      "  if _ is not 1:\n",
      "/usr/local/Ascend/ascend-toolkit/latest/python/site-packages/tbe/dsl/unify_schedule/extract_image_patches_without_cbuf_schedule.py:317: SyntaxWarning: \"is not\" with a literal. Did you mean \"!=\"?\n",
      "  if _ is not 1:\n",
      "/usr/local/Ascend/ascend-toolkit/latest/python/site-packages/tbe/dsl/unify_schedule/extract_image_patches_without_cbuf_schedule.py:317: SyntaxWarning: \"is not\" with a literal. Did you mean \"!=\"?\n",
      "  if _ is not 1:\n",
      "/usr/local/Ascend/ascend-toolkit/latest/python/site-packages/tbe/dsl/unify_schedule/extract_image_patches_without_cbuf_schedule.py:317: SyntaxWarning: \"is not\" with a literal. Did you mean \"!=\"?\n",
      "  if _ is not 1:\n",
      "/usr/local/Ascend/ascend-toolkit/latest/python/site-packages/tbe/dsl/unify_schedule/extract_image_patches_without_cbuf_schedule.py:317: SyntaxWarning: \"is not\" with a literal. Did you mean \"!=\"?\n",
      "  if _ is not 1:\n",
      "/usr/local/Ascend/ascend-toolkit/latest/python/site-packages/tbe/dsl/unify_schedule/extract_image_patches_without_cbuf_schedule.py:317: SyntaxWarning: \"is not\" with a literal. Did you mean \"!=\"?\n",
      "  if _ is not 1:\n",
      "/usr/local/Ascend/ascend-toolkit/latest/python/site-packages/tbe/dsl/unify_schedule/extract_image_patches_without_cbuf_schedule.py:317: SyntaxWarning: \"is not\" with a literal. Did you mean \"!=\"?\n",
      "  if _ is not 1:\n",
      "/usr/local/Ascend/ascend-toolkit/latest/python/site-packages/tbe/dsl/unify_schedule/extract_image_patches_without_cbuf_schedule.py:317: SyntaxWarning: \"is not\" with a literal. Did you mean \"!=\"?\n",
      "  if _ is not 1:\n",
      "/usr/local/Ascend/ascend-toolkit/latest/python/site-packages/tbe/dsl/unify_schedule/extract_image_patches_without_cbuf_schedule.py:317: SyntaxWarning: \"is not\" with a literal. Did you mean \"!=\"?\n",
      "  if _ is not 1:\n",
      "/usr/local/Ascend/ascend-toolkit/latest/python/site-packages/tbe/dsl/unify_schedule/extract_image_patches_without_cbuf_schedule.py:317: SyntaxWarning: \"is not\" with a literal. Did you mean \"!=\"?\n",
      "  if _ is not 1:\n",
      "/usr/local/Ascend/ascend-toolkit/latest/python/site-packages/tbe/dsl/unify_schedule/extract_image_patches_without_cbuf_schedule.py:317: SyntaxWarning: \"is not\" with a literal. Did you mean \"!=\"?\n",
      "  if _ is not 1:\n",
      "/usr/local/Ascend/ascend-toolkit/latest/python/site-packages/tbe/dsl/unify_schedule/extract_image_patches_without_cbuf_schedule.py:317: SyntaxWarning: \"is not\" with a literal. Did you mean \"!=\"?\n",
      "  if _ is not 1:\n",
      "/usr/local/Ascend/ascend-toolkit/latest/python/site-packages/tbe/dsl/unify_schedule/extract_image_patches_without_cbuf_schedule.py:317: SyntaxWarning: \"is not\" with a literal. Did you mean \"!=\"?\n",
      "  if _ is not 1:\n",
      "/usr/local/Ascend/ascend-toolkit/latest/python/site-packages/tbe/dsl/unify_schedule/extract_image_patches_without_cbuf_schedule.py:317: SyntaxWarning: \"is not\" with a literal. Did you mean \"!=\"?\n",
      "  if _ is not 1:\n",
      "/usr/local/Ascend/ascend-toolkit/latest/python/site-packages/tbe/dsl/unify_schedule/extract_image_patches_without_cbuf_schedule.py:317: SyntaxWarning: \"is not\" with a literal. Did you mean \"!=\"?\n",
      "  if _ is not 1:\n",
      "WARNING:root:mslite ascendc custom kernel path not found\n"
     ]
    },
    {
     "name": "stdout",
     "output_type": "stream",
     "text": [
      "/\r"
     ]
    },
    {
     "data": {
      "text/plain": [
       "['hello是是是是是是是是是是是是是是是是是是是是是是是是是是是是是是是是是是是是是是是是是是是是是是是是是是是是是是是是是是是是是是是一种一种是是一种是一种是是一种是一种是一种是一种是一种是一种是一种是一种是一种是一种是一种是一种是一种是一种是一种是一种是一种是一种是一种是一种,']"
      ]
     },
     "execution_count": 4,
     "metadata": {},
     "output_type": "execute_result"
    }
   ],
   "source": [
    "import os\n",
    "from mindformers import ChatGLM2Tokenizer\n",
    "from mindformers.infer.infers import InferTask\n",
    "from mindformers.infer.infer_config import InferConfig\n",
    "from model_service.model_service import SingleNodeService\n",
    "\n",
    "# 基础镜像环境变量配置不支持推理，移除相关配置\n",
    "os.unsetenv('MS_ENABLE_GE')\n",
    "os.unsetenv('MS_GE_TRAIN')\n",
    "\n",
    "\n",
    "# 为了方便部署AI应用，我们在模型转换时将权重文件进行了切分，在实际推理时，需要先将权重合并\n",
    "\n",
    "def cat_weight_file(mindir_dir: str):\n",
    "    for filename in os.listdir(mindir_dir):\n",
    "        if '_variables' in filename:\n",
    "            weight_dir = os.path.join(mindir_dir, filename)\n",
    "            if len(list(weight_dir)) > 1 and not os.path.exists(f\"{weight_dir}/data_0\"):\n",
    "                os.system(f\"cat {weight_dir}/data_0_* > {weight_dir}/data_0\")\n",
    "\n",
    "root = mindir_path\n",
    "cat_weight_file(os.path.join(root, 'mindir'))\n",
    "prefill_model_path = os.path.join(root, 'mindir', 'chatglm2_6b_seq2048_bs1_full_graph.mindir')\n",
    "increment_model_path = os.path.join(root, 'mindir', 'chatglm2_6b_seq2048_bs1_inc_graph.mindir')\n",
    "ge_config_path = os.path.join(root, 'config.ini')\n",
    "tokenizer_path = os.path.join(chatglm2_model_path, 'checkpoint_download')\n",
    "\n",
    "lite_config = InferConfig(\n",
    "            prefill_model_path=prefill_model_path,\n",
    "            increment_model_path=increment_model_path,\n",
    "            model_type=\"mindir\",\n",
    "            model_name=\"glm2\",\n",
    "            ge_config_path=ge_config_path,\n",
    "            device_id=0,\n",
    "            infer_seq_length=2048,\n",
    "        )\n",
    "\n",
    "# 模型加载与热备会耗时10-15min\n",
    "tokenizer = ChatGLM2Tokenizer.from_pretrained(tokenizer_path)\n",
    "infer_model = InferTask.get_infer_task(\"text_generation\", lite_config, tokenizer=tokenizer)\n",
    "infer_model.infer('hello')"
   ]
  },
  {
   "cell_type": "code",
   "execution_count": 5,
   "id": "82a9c53d-758e-416c-8259-9256e0902c57",
   "metadata": {},
   "outputs": [],
   "source": [
    "#使用 prompt_template 构建输入，此步并不是必须的，也可以使用Jinja2等其他方法渲染模板，Baseline只是提供一种样例。\n",
    "\n",
    "prompt_template = \"[Round {}]\\n\\n问：{}\\n\\n答：\"\n",
    "\n",
    "def build_prompt(text, i=1):\n",
    "    return prompt_template.format(i, text)"
   ]
  },
  {
   "cell_type": "code",
   "execution_count": null,
   "id": "6b4939a0-1ee7-4f8f-9cbe-fa747295feab",
   "metadata": {},
   "outputs": [],
   "source": [
    "# 使用Jinja2\n",
    "from jinja2 import Template\n",
    "\n",
    "prompt_template = Template(\"[Round {{ round_number }}]\\n\\n问：{{ question }}\\n\\n答：\")\n",
    "\n",
    "def build_prompt(text, i=1):\n",
    "    return prompt_template.render(round_number=i, question=text)\n"
   ]
  },
  {
   "cell_type": "code",
   "execution_count": 6,
   "id": "5cf23337-167b-4003-bf38-2dd833adec0e",
   "metadata": {},
   "outputs": [],
   "source": [
    "# 给定测试 prompt, 最好与实际任务贴切，方便调试效果\n",
    "\n",
    "prompt = \"下肢血管狭窄的影像学检查有什么？ \\n选项：\\nA.直接胆胰管造影 \\nB.彩色多普勒超声 \\nC.支气管镜检查 \\nD.CT检查\""
   ]
  },
  {
   "cell_type": "code",
   "execution_count": 7,
   "id": "620eca4c-8192-471d-a3d9-d553e5f59007",
   "metadata": {},
   "outputs": [
    {
     "name": "stdout",
     "output_type": "stream",
     "text": [
      "[Round 1]\n",
      "\n",
      "问：下肢血管狭窄的影像学检查有什么？ \n",
      "选项：\n",
      "A.直接胆胰管造影 \n",
      "B.彩色多普勒超声 \n",
      "C.支气管镜检查 \n",
      "D.CT检查\n",
      "\n",
      "答： 1. 彩色多普勒超声 彩色多普勒超声 检查 下肢 血管 狭窄 主要 方法 检查 下肢 血管 狭窄 主要 方法 检查 下肢 血管 狭窄 主要 方法 检查 下肢 血管 狭窄 主要 方法 检查 下肢 血管 狭窄 主要 方法 检查 下肢 血管 狭窄 主要 方法 检查 下肢 血管 \n"
     ]
    }
   ],
   "source": [
    "prompt = build_prompt(prompt)\n",
    "input_ids = infer_model.preprocess(prompt, add_special_tokens=True)\n",
    "input_token_length = len(input_ids[0])\n",
    "if input_token_length > 2048:\n",
    "    response = 'inputs are too long, please retry.'\n",
    "else:\n",
    "    output_ids, logits = infer_model.generate(input_ids, do_sample=True, top_k=1,\n",
    "                                      repetition_penalty=1, eos_token_id=2, pad_token_id=0,\n",
    "                                      is_sample_acceleration=False, streamer=None,\n",
    "                                      top_p=1, temperature=1, max_length=2048, return_logits=True)\n",
    "    outputs = infer_model.postprocess(output_ids)\n",
    "    response = outputs[0]\n",
    "\n",
    "# 查看解码后的输出结果\n",
    "print(response)"
   ]
  },
  {
   "cell_type": "code",
   "execution_count": 9,
   "id": "2afd5d43-625e-47aa-ab5c-c814b9b1254e",
   "metadata": {},
   "outputs": [],
   "source": [
    "choices = [\"A\", \"B\", \"C\", \"D\"]\n",
    "choice_tokens = [tokenizer.encode(choice, add_special_tokens=False)[0] for choice in choices]"
   ]
  },
  {
   "cell_type": "code",
   "execution_count": 10,
   "id": "36425f86-23fd-4360-9544-dcd916503f9b",
   "metadata": {},
   "outputs": [],
   "source": [
    "extraction_prompt = f'【只需要给出对应选项，不需要给出原因】'\n",
    "prompt_template = \"[Round {}]\\n\\n问：{}\\n\\n答：\"\n",
    "\n",
    "def build_prompt(text, i=1):\n",
    "    return extraction_prompt + '\\n' + prompt_template.format(i, text)"
   ]
  },
  {
   "cell_type": "code",
   "execution_count": 18,
   "id": "b5b11d49-631a-4c59-9e77-c9a2c28e2e5a",
   "metadata": {},
   "outputs": [
    {
     "name": "stdout",
     "output_type": "stream",
     "text": [
      "【只需要给出对应选项，不需要给出原因】\n",
      "[Round 1]\n",
      "\n",
      "问：下肢血管狭窄的影像学检查有什么？ \n",
      "选项：\n",
      "A.直接胆胰管造影 \n",
      "B.彩色多普勒超声 \n",
      "C.支气管镜检查 \n",
      "D.CT检查\n",
      "\n",
      "答：\n"
     ]
    }
   ],
   "source": [
    "prompt = \"下肢血管狭窄的影像学检查有什么？ \\n选项：\\nA.直接胆胰管造影 \\nB.彩色多普勒超声 \\nC.支气管镜检查 \\nD.CT检查\"\n",
    "prompt = build_prompt(prompt)\n",
    "print(prompt)"
   ]
  },
  {
   "cell_type": "code",
   "execution_count": 19,
   "id": "b1af8b6d-12c8-415e-903c-3a4f0f0b68ef",
   "metadata": {},
   "outputs": [],
   "source": [
    "input_ids = infer_model.preprocess(prompt, add_special_tokens=True)\n",
    "output_ids, logits = infer_model.generate(input_ids, do_sample=True, top_k=5,\n",
    "                                          repetition_penalty=1, eos_token_id=2, pad_token_id=0,\n",
    "                                          is_sample_acceleration=False, streamer=None,\n",
    "                                          top_p=1, temperature=1, max_length=2048, return_logits=True)"
   ]
  },
  {
   "cell_type": "code",
   "execution_count": 20,
   "id": "f16c3ce0-5094-4de3-b5b2-f62985e3e18c",
   "metadata": {},
   "outputs": [
    {
     "name": "stdout",
     "output_type": "stream",
     "text": [
      "B\n"
     ]
    }
   ],
   "source": [
    "logits = logits[0][:, choice_tokens]\n",
    "preds = logits.argmax(axis=-1)\n",
    "print(choices[preds[0]])"
   ]
  },
  {
   "cell_type": "code",
   "execution_count": 21,
   "id": "ea34fabd-9c63-497b-b6fb-890e4446252f",
   "metadata": {},
   "outputs": [
    {
     "name": "stdout",
     "output_type": "stream",
     "text": [
      "【只需要给出对应选项，不需要给出原因】\n",
      "[Round 1]\n",
      "\n",
      "问：下肢血管狭窄的影像学检查有什么？ \n",
      "选项：\n",
      "A.直接胆胰管造影 \n",
      "B.彩色多普勒超声 \n",
      "C.支气管镜检查 \n",
      "D.CT检查\n",
      "\n",
      "答： B.彩色多普勒超声 \n"
     ]
    }
   ],
   "source": [
    "outputs = infer_model.postprocess(output_ids)\n",
    "response = outputs[0]\n",
    "print(response)"
   ]
  },
  {
   "cell_type": "code",
   "execution_count": 24,
   "id": "9d9ee19a-68b0-4dff-a0be-e56a8b00c62b",
   "metadata": {},
   "outputs": [
    {
     "name": "stdout",
     "output_type": "stream",
     "text": [
      "A\n"
     ]
    }
   ],
   "source": [
    "# 从模型输出中提取答案部分\n",
    "parsed_output = response.replace(\"\\n\", \"\").strip()\n",
    "\n",
    "# 设置备选答案列表\n",
    "possible_answers = [\"A\", \"B\", \"C\", \"D\"]\n",
    "\n",
    "# 尝试匹配选项\n",
    "for answer in possible_answers:\n",
    "    if answer in parsed_output.upper():  # 忽略大小写\n",
    "        # 找到匹配项，输出结果并跳出循环\n",
    "        print(answer)\n",
    "        break\n",
    "else:\n",
    "    # 如果循环未被打破，说明没有找到匹配项\n",
    "    print(\"未找到匹配的答案。\")\n"
   ]
  },
  {
   "cell_type": "code",
   "execution_count": 25,
   "id": "a208dab7-c3fb-4816-8b7f-75f4bcbdf94c",
   "metadata": {},
   "outputs": [
    {
     "data": {
      "text/plain": [
       "\u001b[0;32mimport\u001b[0m \u001b[0mos\u001b[0m\u001b[0;34m\u001b[0m\n",
       "\u001b[0;34m\u001b[0m\u001b[0;32mimport\u001b[0m \u001b[0mtime\u001b[0m\u001b[0;34m\u001b[0m\n",
       "\u001b[0;34m\u001b[0m\u001b[0;32mimport\u001b[0m \u001b[0muuid\u001b[0m\u001b[0;34m\u001b[0m\n",
       "\u001b[0;34m\u001b[0m\u001b[0;32mimport\u001b[0m \u001b[0mthreading\u001b[0m\u001b[0;34m\u001b[0m\n",
       "\u001b[0;34m\u001b[0m\u001b[0;32mimport\u001b[0m \u001b[0mjson\u001b[0m\u001b[0;34m\u001b[0m\n",
       "\u001b[0;34m\u001b[0m\u001b[0;32mfrom\u001b[0m \u001b[0mmindformers\u001b[0m \u001b[0;32mimport\u001b[0m \u001b[0mChatGLM2Tokenizer\u001b[0m\u001b[0;34m\u001b[0m\n",
       "\u001b[0;34m\u001b[0m\u001b[0;32mfrom\u001b[0m \u001b[0mmindformers\u001b[0m\u001b[0;34m.\u001b[0m\u001b[0minfer\u001b[0m\u001b[0;34m.\u001b[0m\u001b[0minfers\u001b[0m \u001b[0;32mimport\u001b[0m \u001b[0mInferTask\u001b[0m\u001b[0;34m\u001b[0m\n",
       "\u001b[0;34m\u001b[0m\u001b[0;32mfrom\u001b[0m \u001b[0mmindformers\u001b[0m\u001b[0;34m.\u001b[0m\u001b[0minfer\u001b[0m\u001b[0;34m.\u001b[0m\u001b[0minfer_config\u001b[0m \u001b[0;32mimport\u001b[0m \u001b[0mInferConfig\u001b[0m\u001b[0;34m\u001b[0m\n",
       "\u001b[0;34m\u001b[0m\u001b[0;32mfrom\u001b[0m \u001b[0mmodel_service\u001b[0m\u001b[0;34m.\u001b[0m\u001b[0mmodel_service\u001b[0m \u001b[0;32mimport\u001b[0m \u001b[0mSingleNodeService\u001b[0m\u001b[0;34m\u001b[0m\n",
       "\u001b[0;34m\u001b[0m\u001b[0;34m\u001b[0m\n",
       "\u001b[0;34m\u001b[0m\u001b[0;34m\u001b[0m\n",
       "\u001b[0;34m\u001b[0m\u001b[0;31m# 基础镜像环境变量配置不支持推理，移除相关配置\u001b[0m\u001b[0;34m\u001b[0m\n",
       "\u001b[0;34m\u001b[0m\u001b[0mos\u001b[0m\u001b[0;34m.\u001b[0m\u001b[0munsetenv\u001b[0m\u001b[0;34m(\u001b[0m\u001b[0;34m'MS_ENABLE_GE'\u001b[0m\u001b[0;34m)\u001b[0m\u001b[0;34m\u001b[0m\n",
       "\u001b[0;34m\u001b[0m\u001b[0mos\u001b[0m\u001b[0;34m.\u001b[0m\u001b[0munsetenv\u001b[0m\u001b[0;34m(\u001b[0m\u001b[0;34m'MS_GE_TRAIN'\u001b[0m\u001b[0;34m)\u001b[0m\u001b[0;34m\u001b[0m\n",
       "\u001b[0;34m\u001b[0m\u001b[0;34m\u001b[0m\n",
       "\u001b[0;34m\u001b[0m\u001b[0;34m\u001b[0m\n",
       "\u001b[0;34m\u001b[0m\u001b[0;32mdef\u001b[0m \u001b[0mcat_weight_file\u001b[0m\u001b[0;34m(\u001b[0m\u001b[0mmindir_dir\u001b[0m\u001b[0;34m:\u001b[0m \u001b[0mstr\u001b[0m\u001b[0;34m)\u001b[0m\u001b[0;34m:\u001b[0m\u001b[0;34m\u001b[0m\n",
       "\u001b[0;34m\u001b[0m    \u001b[0;32mfor\u001b[0m \u001b[0mfilename\u001b[0m \u001b[0;32min\u001b[0m \u001b[0mos\u001b[0m\u001b[0;34m.\u001b[0m\u001b[0mlistdir\u001b[0m\u001b[0;34m(\u001b[0m\u001b[0mmindir_dir\u001b[0m\u001b[0;34m)\u001b[0m\u001b[0;34m:\u001b[0m\u001b[0;34m\u001b[0m\n",
       "\u001b[0;34m\u001b[0m        \u001b[0;32mif\u001b[0m \u001b[0;34m'_variables'\u001b[0m \u001b[0;32min\u001b[0m \u001b[0mfilename\u001b[0m\u001b[0;34m:\u001b[0m\u001b[0;34m\u001b[0m\n",
       "\u001b[0;34m\u001b[0m            \u001b[0mweight_dir\u001b[0m \u001b[0;34m=\u001b[0m \u001b[0mos\u001b[0m\u001b[0;34m.\u001b[0m\u001b[0mpath\u001b[0m\u001b[0;34m.\u001b[0m\u001b[0mjoin\u001b[0m\u001b[0;34m(\u001b[0m\u001b[0mmindir_dir\u001b[0m\u001b[0;34m,\u001b[0m \u001b[0mfilename\u001b[0m\u001b[0;34m)\u001b[0m\u001b[0;34m\u001b[0m\n",
       "\u001b[0;34m\u001b[0m            \u001b[0;32mif\u001b[0m \u001b[0mlen\u001b[0m\u001b[0;34m(\u001b[0m\u001b[0mlist\u001b[0m\u001b[0;34m(\u001b[0m\u001b[0mweight_dir\u001b[0m\u001b[0;34m)\u001b[0m\u001b[0;34m)\u001b[0m \u001b[0;34m>\u001b[0m \u001b[0;36m1\u001b[0m \u001b[0;32mand\u001b[0m \u001b[0;32mnot\u001b[0m \u001b[0mos\u001b[0m\u001b[0;34m.\u001b[0m\u001b[0mpath\u001b[0m\u001b[0;34m.\u001b[0m\u001b[0mexists\u001b[0m\u001b[0;34m(\u001b[0m\u001b[0;34mf\"{weight_dir}/data_0\"\u001b[0m\u001b[0;34m)\u001b[0m\u001b[0;34m:\u001b[0m\u001b[0;34m\u001b[0m\n",
       "\u001b[0;34m\u001b[0m                \u001b[0mos\u001b[0m\u001b[0;34m.\u001b[0m\u001b[0msystem\u001b[0m\u001b[0;34m(\u001b[0m\u001b[0;34mf\"cat {weight_dir}/data_0_* > {weight_dir}/data_0\"\u001b[0m\u001b[0;34m)\u001b[0m\u001b[0;34m\u001b[0m\n",
       "\u001b[0;34m\u001b[0m\u001b[0;34m\u001b[0m\n",
       "\u001b[0;34m\u001b[0m\u001b[0;34m\u001b[0m\n",
       "\u001b[0;34m\u001b[0m\u001b[0;34m\u001b[0m\n",
       "\u001b[0;34m\u001b[0m\u001b[0;32mclass\u001b[0m \u001b[0mLlmService\u001b[0m\u001b[0;34m(\u001b[0m\u001b[0mSingleNodeService\u001b[0m\u001b[0;34m)\u001b[0m\u001b[0;34m:\u001b[0m\u001b[0;34m\u001b[0m\n",
       "\u001b[0;34m\u001b[0m    \u001b[0;32mdef\u001b[0m \u001b[0m__init__\u001b[0m\u001b[0;34m(\u001b[0m\u001b[0mself\u001b[0m\u001b[0;34m,\u001b[0m \u001b[0mmodel_name\u001b[0m\u001b[0;34m,\u001b[0m \u001b[0mmodel_path\u001b[0m\u001b[0;34m)\u001b[0m\u001b[0;34m:\u001b[0m\u001b[0;34m\u001b[0m\n",
       "\u001b[0;34m\u001b[0m        \u001b[0;31m# 获取程序当前运行路径，即model文件夹所在的路径\u001b[0m\u001b[0;34m\u001b[0m\n",
       "\u001b[0;34m\u001b[0m        \u001b[0mroot\u001b[0m \u001b[0;34m=\u001b[0m \u001b[0mos\u001b[0m\u001b[0;34m.\u001b[0m\u001b[0mpath\u001b[0m\u001b[0;34m.\u001b[0m\u001b[0mdirname\u001b[0m\u001b[0;34m(\u001b[0m\u001b[0mos\u001b[0m\u001b[0;34m.\u001b[0m\u001b[0mpath\u001b[0m\u001b[0;34m.\u001b[0m\u001b[0mabspath\u001b[0m\u001b[0;34m(\u001b[0m\u001b[0m__file__\u001b[0m\u001b[0;34m)\u001b[0m\u001b[0;34m)\u001b[0m\u001b[0;34m\u001b[0m\n",
       "\u001b[0;34m\u001b[0m        \u001b[0mcat_weight_file\u001b[0m\u001b[0;34m(\u001b[0m\u001b[0mos\u001b[0m\u001b[0;34m.\u001b[0m\u001b[0mpath\u001b[0m\u001b[0;34m.\u001b[0m\u001b[0mjoin\u001b[0m\u001b[0;34m(\u001b[0m\u001b[0mroot\u001b[0m\u001b[0;34m,\u001b[0m \u001b[0;34m'mindir'\u001b[0m\u001b[0;34m)\u001b[0m\u001b[0;34m)\u001b[0m\u001b[0;34m\u001b[0m\n",
       "\u001b[0;34m\u001b[0m        \u001b[0mself\u001b[0m\u001b[0;34m.\u001b[0m\u001b[0mprefill_model_path\u001b[0m \u001b[0;34m=\u001b[0m \u001b[0mos\u001b[0m\u001b[0;34m.\u001b[0m\u001b[0mpath\u001b[0m\u001b[0;34m.\u001b[0m\u001b[0mjoin\u001b[0m\u001b[0;34m(\u001b[0m\u001b[0mroot\u001b[0m\u001b[0;34m,\u001b[0m \u001b[0;34m'mindir'\u001b[0m\u001b[0;34m,\u001b[0m \u001b[0;34m'chatglm2_6b_seq2048_bs1_full_graph.mindir'\u001b[0m\u001b[0;34m)\u001b[0m\u001b[0;34m\u001b[0m\n",
       "\u001b[0;34m\u001b[0m        \u001b[0mself\u001b[0m\u001b[0;34m.\u001b[0m\u001b[0mincrement_model_path\u001b[0m \u001b[0;34m=\u001b[0m \u001b[0mos\u001b[0m\u001b[0;34m.\u001b[0m\u001b[0mpath\u001b[0m\u001b[0;34m.\u001b[0m\u001b[0mjoin\u001b[0m\u001b[0;34m(\u001b[0m\u001b[0mroot\u001b[0m\u001b[0;34m,\u001b[0m \u001b[0;34m'mindir'\u001b[0m\u001b[0;34m,\u001b[0m \u001b[0;34m'chatglm2_6b_seq2048_bs1_inc_graph.mindir'\u001b[0m\u001b[0;34m)\u001b[0m\u001b[0;34m\u001b[0m\n",
       "\u001b[0;34m\u001b[0m        \u001b[0mself\u001b[0m\u001b[0;34m.\u001b[0m\u001b[0mge_config_path\u001b[0m \u001b[0;34m=\u001b[0m \u001b[0mos\u001b[0m\u001b[0;34m.\u001b[0m\u001b[0mpath\u001b[0m\u001b[0;34m.\u001b[0m\u001b[0mjoin\u001b[0m\u001b[0;34m(\u001b[0m\u001b[0mroot\u001b[0m\u001b[0;34m,\u001b[0m \u001b[0;34m'config.ini'\u001b[0m\u001b[0;34m)\u001b[0m\u001b[0;34m\u001b[0m\n",
       "\u001b[0;34m\u001b[0m        \u001b[0mself\u001b[0m\u001b[0;34m.\u001b[0m\u001b[0mtokenizer_path\u001b[0m \u001b[0;34m=\u001b[0m \u001b[0mos\u001b[0m\u001b[0;34m.\u001b[0m\u001b[0mpath\u001b[0m\u001b[0;34m.\u001b[0m\u001b[0mjoin\u001b[0m\u001b[0;34m(\u001b[0m\u001b[0mroot\u001b[0m\u001b[0;34m,\u001b[0m \u001b[0;34m'checkpoint_download'\u001b[0m\u001b[0;34m)\u001b[0m\u001b[0;34m\u001b[0m\n",
       "\u001b[0;34m\u001b[0m        \u001b[0mself\u001b[0m\u001b[0;34m.\u001b[0m\u001b[0mmodel_ready\u001b[0m \u001b[0;34m=\u001b[0m \u001b[0;32mFalse\u001b[0m\u001b[0;34m\u001b[0m\n",
       "\u001b[0;34m\u001b[0m        \u001b[0mself\u001b[0m\u001b[0;34m.\u001b[0m\u001b[0mextraction_prompt\u001b[0m \u001b[0;34m=\u001b[0m \u001b[0;34m'【只需要给出对应选项，不需要给出原因】\\n'\u001b[0m\u001b[0;34m\u001b[0m\n",
       "\u001b[0;34m\u001b[0m        \u001b[0mself\u001b[0m\u001b[0;34m.\u001b[0m\u001b[0mprompt_template\u001b[0m \u001b[0;34m=\u001b[0m \u001b[0;34m\"[Round {}]\\n\\n问：{}\\n\\n答：\"\u001b[0m\u001b[0;34m\u001b[0m\n",
       "\u001b[0;34m\u001b[0m        \u001b[0;31m# 非阻塞方式加载模型，防止阻塞超时\u001b[0m\u001b[0;34m\u001b[0m\n",
       "\u001b[0;34m\u001b[0m        \u001b[0mthread\u001b[0m \u001b[0;34m=\u001b[0m \u001b[0mthreading\u001b[0m\u001b[0;34m.\u001b[0m\u001b[0mThread\u001b[0m\u001b[0;34m(\u001b[0m\u001b[0mtarget\u001b[0m\u001b[0;34m=\u001b[0m\u001b[0mself\u001b[0m\u001b[0;34m.\u001b[0m\u001b[0mload_and_warm_up\u001b[0m\u001b[0;34m)\u001b[0m\u001b[0;34m\u001b[0m\n",
       "\u001b[0;34m\u001b[0m        \u001b[0mthread\u001b[0m\u001b[0;34m.\u001b[0m\u001b[0mstart\u001b[0m\u001b[0;34m(\u001b[0m\u001b[0;34m)\u001b[0m\u001b[0;34m\u001b[0m\n",
       "\u001b[0;34m\u001b[0m     \u001b[0;34m\u001b[0m\n",
       "\u001b[0;34m\u001b[0m    \u001b[0;32mdef\u001b[0m \u001b[0mhealth\u001b[0m\u001b[0;34m(\u001b[0m\u001b[0mself\u001b[0m\u001b[0;34m)\u001b[0m\u001b[0;34m:\u001b[0m\u001b[0;34m\u001b[0m\n",
       "\u001b[0;34m\u001b[0m        \u001b[0;32mif\u001b[0m \u001b[0mself\u001b[0m\u001b[0;34m.\u001b[0m\u001b[0mmodel_ready\u001b[0m\u001b[0;34m:\u001b[0m\u001b[0;34m\u001b[0m\n",
       "\u001b[0;34m\u001b[0m            \u001b[0;32mreturn\u001b[0m \u001b[0;34m''\u001b[0m\u001b[0;34m,\u001b[0m \u001b[0;36m200\u001b[0m\u001b[0;34m\u001b[0m\n",
       "\u001b[0;34m\u001b[0m        \u001b[0;32melse\u001b[0m\u001b[0;34m:\u001b[0m\u001b[0;34m\u001b[0m\n",
       "\u001b[0;34m\u001b[0m            \u001b[0;32mreturn\u001b[0m \u001b[0;34m''\u001b[0m\u001b[0;34m,\u001b[0m \u001b[0;36m404\u001b[0m\u001b[0;34m\u001b[0m\n",
       "\u001b[0;34m\u001b[0m\u001b[0;34m\u001b[0m\n",
       "\u001b[0;34m\u001b[0m    \u001b[0;32mdef\u001b[0m \u001b[0mload_and_warm_up\u001b[0m\u001b[0;34m(\u001b[0m\u001b[0mself\u001b[0m\u001b[0;34m)\u001b[0m\u001b[0;34m:\u001b[0m\u001b[0;34m\u001b[0m\n",
       "\u001b[0;34m\u001b[0m        \u001b[0mprint\u001b[0m\u001b[0;34m(\u001b[0m\u001b[0;34m'load and warm up start'\u001b[0m\u001b[0;34m)\u001b[0m\u001b[0;34m\u001b[0m\n",
       "\u001b[0;34m\u001b[0m        \u001b[0mlite_config\u001b[0m \u001b[0;34m=\u001b[0m \u001b[0mInferConfig\u001b[0m\u001b[0;34m(\u001b[0m\u001b[0;34m\u001b[0m\n",
       "\u001b[0;34m\u001b[0m            \u001b[0mprefill_model_path\u001b[0m\u001b[0;34m=\u001b[0m\u001b[0mself\u001b[0m\u001b[0;34m.\u001b[0m\u001b[0mprefill_model_path\u001b[0m\u001b[0;34m,\u001b[0m\u001b[0;34m\u001b[0m\n",
       "\u001b[0;34m\u001b[0m            \u001b[0mincrement_model_path\u001b[0m\u001b[0;34m=\u001b[0m\u001b[0mself\u001b[0m\u001b[0;34m.\u001b[0m\u001b[0mincrement_model_path\u001b[0m\u001b[0;34m,\u001b[0m\u001b[0;34m\u001b[0m\n",
       "\u001b[0;34m\u001b[0m            \u001b[0mmodel_type\u001b[0m\u001b[0;34m=\u001b[0m\u001b[0;34m\"mindir\"\u001b[0m\u001b[0;34m,\u001b[0m\u001b[0;34m\u001b[0m\n",
       "\u001b[0;34m\u001b[0m            \u001b[0mmodel_name\u001b[0m\u001b[0;34m=\u001b[0m\u001b[0;34m\"glm2\"\u001b[0m\u001b[0;34m,\u001b[0m\u001b[0;34m\u001b[0m\n",
       "\u001b[0;34m\u001b[0m            \u001b[0mge_config_path\u001b[0m\u001b[0;34m=\u001b[0m\u001b[0mself\u001b[0m\u001b[0;34m.\u001b[0m\u001b[0mge_config_path\u001b[0m\u001b[0;34m,\u001b[0m\u001b[0;34m\u001b[0m\n",
       "\u001b[0;34m\u001b[0m            \u001b[0mdevice_id\u001b[0m\u001b[0;34m=\u001b[0m\u001b[0;36m0\u001b[0m\u001b[0;34m,\u001b[0m\u001b[0;34m\u001b[0m\n",
       "\u001b[0;34m\u001b[0m            \u001b[0minfer_seq_length\u001b[0m\u001b[0;34m=\u001b[0m\u001b[0;36m2048\u001b[0m\u001b[0;34m,\u001b[0m\u001b[0;34m\u001b[0m\n",
       "\u001b[0;34m\u001b[0m        \u001b[0;34m)\u001b[0m\u001b[0;34m\u001b[0m\n",
       "\u001b[0;34m\u001b[0m        \u001b[0;31m# load model\u001b[0m\u001b[0;34m\u001b[0m\n",
       "\u001b[0;34m\u001b[0m        \u001b[0mself\u001b[0m\u001b[0;34m.\u001b[0m\u001b[0mtokenizer\u001b[0m \u001b[0;34m=\u001b[0m \u001b[0mChatGLM2Tokenizer\u001b[0m\u001b[0;34m.\u001b[0m\u001b[0mfrom_pretrained\u001b[0m\u001b[0;34m(\u001b[0m\u001b[0mself\u001b[0m\u001b[0;34m.\u001b[0m\u001b[0mtokenizer_path\u001b[0m\u001b[0;34m)\u001b[0m\u001b[0;34m\u001b[0m\n",
       "\u001b[0;34m\u001b[0m        \u001b[0mself\u001b[0m\u001b[0;34m.\u001b[0m\u001b[0minfer_model\u001b[0m \u001b[0;34m=\u001b[0m \u001b[0mInferTask\u001b[0m\u001b[0;34m.\u001b[0m\u001b[0mget_infer_task\u001b[0m\u001b[0;34m(\u001b[0m\u001b[0;34m\"text_generation\"\u001b[0m\u001b[0;34m,\u001b[0m \u001b[0mlite_config\u001b[0m\u001b[0;34m,\u001b[0m \u001b[0mtokenizer\u001b[0m\u001b[0;34m=\u001b[0m\u001b[0mself\u001b[0m\u001b[0;34m.\u001b[0m\u001b[0mtokenizer\u001b[0m\u001b[0;34m)\u001b[0m\u001b[0;34m\u001b[0m\n",
       "\u001b[0;34m\u001b[0m        \u001b[0;31m# warm up\u001b[0m\u001b[0;34m\u001b[0m\n",
       "\u001b[0;34m\u001b[0m        \u001b[0mself\u001b[0m\u001b[0;34m.\u001b[0m\u001b[0minfer_model\u001b[0m\u001b[0;34m.\u001b[0m\u001b[0minfer\u001b[0m\u001b[0;34m(\u001b[0m\u001b[0;34m'hello'\u001b[0m\u001b[0;34m)\u001b[0m\u001b[0;34m\u001b[0m\n",
       "\u001b[0;34m\u001b[0m        \u001b[0mprint\u001b[0m\u001b[0;34m(\u001b[0m\u001b[0;34m'load and warm up end'\u001b[0m\u001b[0;34m)\u001b[0m\u001b[0;34m\u001b[0m\n",
       "\u001b[0;34m\u001b[0m        \u001b[0mself\u001b[0m\u001b[0;34m.\u001b[0m\u001b[0mmodel_ready\u001b[0m \u001b[0;34m=\u001b[0m \u001b[0;32mTrue\u001b[0m\u001b[0;34m\u001b[0m\n",
       "\u001b[0;34m\u001b[0m\u001b[0;34m\u001b[0m\n",
       "\u001b[0;34m\u001b[0m    \u001b[0;32mdef\u001b[0m \u001b[0mbuild_prompt\u001b[0m\u001b[0;34m(\u001b[0m\u001b[0mself\u001b[0m\u001b[0;34m,\u001b[0m \u001b[0mtext\u001b[0m\u001b[0;34m,\u001b[0m \u001b[0mi\u001b[0m\u001b[0;34m=\u001b[0m\u001b[0;36m1\u001b[0m\u001b[0;34m)\u001b[0m\u001b[0;34m:\u001b[0m\u001b[0;34m\u001b[0m\n",
       "\u001b[0;34m\u001b[0m        \u001b[0;32mreturn\u001b[0m \u001b[0mself\u001b[0m\u001b[0;34m.\u001b[0m\u001b[0mprompt_template\u001b[0m\u001b[0;34m.\u001b[0m\u001b[0mformat\u001b[0m\u001b[0;34m(\u001b[0m\u001b[0mi\u001b[0m\u001b[0;34m,\u001b[0m \u001b[0mtext\u001b[0m\u001b[0;34m)\u001b[0m\u001b[0;34m\u001b[0m\n",
       "\u001b[0;34m\u001b[0m\u001b[0;34m\u001b[0m\n",
       "\u001b[0;34m\u001b[0m    \u001b[0;32mdef\u001b[0m \u001b[0m_preprocess\u001b[0m\u001b[0;34m(\u001b[0m\u001b[0mself\u001b[0m\u001b[0;34m,\u001b[0m \u001b[0mdata\u001b[0m\u001b[0;34m)\u001b[0m\u001b[0;34m:\u001b[0m\u001b[0;34m\u001b[0m\n",
       "\u001b[0;34m\u001b[0m        \u001b[0mprocess_data\u001b[0m \u001b[0;34m=\u001b[0m \u001b[0;34m{\u001b[0m\u001b[0;34m}\u001b[0m\u001b[0;34m\u001b[0m\n",
       "\u001b[0;34m\u001b[0m        \u001b[0;32mfor\u001b[0m \u001b[0m_\u001b[0m\u001b[0;34m,\u001b[0m \u001b[0mv\u001b[0m \u001b[0;32min\u001b[0m \u001b[0mdata\u001b[0m\u001b[0;34m.\u001b[0m\u001b[0mitems\u001b[0m\u001b[0;34m(\u001b[0m\u001b[0;34m)\u001b[0m\u001b[0;34m:\u001b[0m\u001b[0;34m\u001b[0m\n",
       "\u001b[0;34m\u001b[0m            \u001b[0;32mfor\u001b[0m \u001b[0mfile_name\u001b[0m\u001b[0;34m,\u001b[0m \u001b[0mfile_content\u001b[0m \u001b[0;32min\u001b[0m \u001b[0mv\u001b[0m\u001b[0;34m.\u001b[0m\u001b[0mitems\u001b[0m\u001b[0;34m(\u001b[0m\u001b[0;34m)\u001b[0m\u001b[0;34m:\u001b[0m\u001b[0;34m\u001b[0m\n",
       "\u001b[0;34m\u001b[0m                \u001b[0mprocess_data\u001b[0m \u001b[0;34m=\u001b[0m \u001b[0mjson\u001b[0m\u001b[0;34m.\u001b[0m\u001b[0mloads\u001b[0m\u001b[0;34m(\u001b[0m\u001b[0mfile_content\u001b[0m\u001b[0;34m.\u001b[0m\u001b[0mread\u001b[0m\u001b[0;34m(\u001b[0m\u001b[0;34m)\u001b[0m\u001b[0;34m)\u001b[0m\u001b[0;34m\u001b[0m\n",
       "\u001b[0;34m\u001b[0m        \u001b[0;32mreturn\u001b[0m \u001b[0mprocess_data\u001b[0m\u001b[0;34m\u001b[0m\n",
       "\u001b[0;34m\u001b[0m\u001b[0;34m\u001b[0m\n",
       "\u001b[0;34m\u001b[0m    \u001b[0;32mdef\u001b[0m \u001b[0m_inference\u001b[0m\u001b[0;34m(\u001b[0m\u001b[0mself\u001b[0m\u001b[0;34m,\u001b[0m \u001b[0mdata\u001b[0m\u001b[0;34m)\u001b[0m\u001b[0;34m:\u001b[0m\u001b[0;34m\u001b[0m\n",
       "\u001b[0;34m\u001b[0m        \u001b[0mquery\u001b[0m \u001b[0;34m=\u001b[0m \u001b[0mdata\u001b[0m\u001b[0;34m.\u001b[0m\u001b[0mget\u001b[0m\u001b[0;34m(\u001b[0m\u001b[0;34m'prompt'\u001b[0m\u001b[0;34m)\u001b[0m\u001b[0;34m\u001b[0m\n",
       "\u001b[0;34m\u001b[0m        \u001b[0mtemperature\u001b[0m \u001b[0;34m=\u001b[0m \u001b[0mdata\u001b[0m\u001b[0;34m.\u001b[0m\u001b[0mget\u001b[0m\u001b[0;34m(\u001b[0m\u001b[0;34m'temperature'\u001b[0m\u001b[0;34m)\u001b[0m\u001b[0;34m\u001b[0m\n",
       "\u001b[0;34m\u001b[0m        \u001b[0mtop_p\u001b[0m \u001b[0;34m=\u001b[0m \u001b[0mdata\u001b[0m\u001b[0;34m.\u001b[0m\u001b[0mget\u001b[0m\u001b[0;34m(\u001b[0m\u001b[0;34m'top_p'\u001b[0m\u001b[0;34m)\u001b[0m\u001b[0;34m\u001b[0m\n",
       "\u001b[0;34m\u001b[0m        \u001b[0mmax_tokens\u001b[0m \u001b[0;34m=\u001b[0m \u001b[0mdata\u001b[0m\u001b[0;34m.\u001b[0m\u001b[0mget\u001b[0m\u001b[0;34m(\u001b[0m\u001b[0;34m'max_tokens'\u001b[0m\u001b[0;34m)\u001b[0m\u001b[0;34m\u001b[0m\n",
       "\u001b[0;34m\u001b[0m        \u001b[0mhistory\u001b[0m \u001b[0;34m=\u001b[0m \u001b[0mdata\u001b[0m\u001b[0;34m.\u001b[0m\u001b[0mget\u001b[0m\u001b[0;34m(\u001b[0m\u001b[0;34m'history'\u001b[0m\u001b[0;34m)\u001b[0m\u001b[0;34m\u001b[0m\n",
       "\u001b[0;34m\u001b[0m        \u001b[0mchoices\u001b[0m \u001b[0;34m=\u001b[0m \u001b[0mdata\u001b[0m\u001b[0;34m.\u001b[0m\u001b[0mget\u001b[0m\u001b[0;34m(\u001b[0m\u001b[0;34m'choices'\u001b[0m\u001b[0;34m)\u001b[0m\u001b[0;34m\u001b[0m\n",
       "\u001b[0;34m\u001b[0m        \u001b[0;32mif\u001b[0m \u001b[0mself\u001b[0m\u001b[0;34m.\u001b[0m\u001b[0mmodel_ready\u001b[0m\u001b[0;34m:\u001b[0m\u001b[0;34m\u001b[0m\n",
       "\u001b[0;34m\u001b[0m            \u001b[0mchoice_tokens\u001b[0m \u001b[0;34m=\u001b[0m \u001b[0;34m[\u001b[0m\u001b[0mself\u001b[0m\u001b[0;34m.\u001b[0m\u001b[0mtokenizer\u001b[0m\u001b[0;34m.\u001b[0m\u001b[0mencode\u001b[0m\u001b[0;34m(\u001b[0m\u001b[0mchoice\u001b[0m\u001b[0;34m,\u001b[0m \u001b[0madd_special_tokens\u001b[0m\u001b[0;34m=\u001b[0m\u001b[0;32mFalse\u001b[0m\u001b[0;34m)\u001b[0m\u001b[0;34m[\u001b[0m\u001b[0;36m0\u001b[0m\u001b[0;34m]\u001b[0m \u001b[0;32mfor\u001b[0m \u001b[0mchoice\u001b[0m \u001b[0;32min\u001b[0m \u001b[0mchoices\u001b[0m\u001b[0;34m]\u001b[0m\u001b[0;34m\u001b[0m\n",
       "\u001b[0;34m\u001b[0m\u001b[0;34m\u001b[0m\n",
       "\u001b[0;34m\u001b[0m            \u001b[0mquery_ids\u001b[0m \u001b[0;34m=\u001b[0m \u001b[0mself\u001b[0m\u001b[0;34m.\u001b[0m\u001b[0minfer_model\u001b[0m\u001b[0;34m.\u001b[0m\u001b[0mpreprocess\u001b[0m\u001b[0;34m(\u001b[0m\u001b[0mquery\u001b[0m\u001b[0;34m,\u001b[0m \u001b[0madd_special_tokens\u001b[0m\u001b[0;34m=\u001b[0m\u001b[0;32mTrue\u001b[0m\u001b[0;34m)\u001b[0m\u001b[0;34m\u001b[0m\n",
       "\u001b[0;34m\u001b[0m            \u001b[0mquery_token_length\u001b[0m \u001b[0;34m=\u001b[0m \u001b[0mlen\u001b[0m\u001b[0;34m(\u001b[0m\u001b[0mquery_ids\u001b[0m\u001b[0;34m[\u001b[0m\u001b[0;36m0\u001b[0m\u001b[0;34m]\u001b[0m\u001b[0;34m)\u001b[0m\u001b[0;34m\u001b[0m\n",
       "\u001b[0;34m\u001b[0m\u001b[0;34m\u001b[0m\n",
       "\u001b[0;34m\u001b[0m            \u001b[0;32mif\u001b[0m \u001b[0;32mnot\u001b[0m \u001b[0mhistory\u001b[0m\u001b[0;34m:\u001b[0m\u001b[0;34m\u001b[0m\n",
       "\u001b[0;34m\u001b[0m                \u001b[0mprompt\u001b[0m \u001b[0;34m=\u001b[0m \u001b[0mself\u001b[0m\u001b[0;34m.\u001b[0m\u001b[0mextraction_prompt\u001b[0m \u001b[0;34m+\u001b[0m \u001b[0mself\u001b[0m\u001b[0;34m.\u001b[0m\u001b[0mbuild_prompt\u001b[0m\u001b[0;34m(\u001b[0m\u001b[0mquery\u001b[0m\u001b[0;34m)\u001b[0m\u001b[0;34m\u001b[0m\n",
       "\u001b[0;34m\u001b[0m                \u001b[0mhistory\u001b[0m \u001b[0;34m=\u001b[0m \u001b[0;34m[\u001b[0m\u001b[0;34m]\u001b[0m\u001b[0;34m\u001b[0m\n",
       "\u001b[0;34m\u001b[0m            \u001b[0;32melse\u001b[0m\u001b[0;34m:\u001b[0m\u001b[0;34m\u001b[0m\n",
       "\u001b[0;34m\u001b[0m                \u001b[0mprompt\u001b[0m \u001b[0;34m=\u001b[0m \u001b[0mself\u001b[0m\u001b[0;34m.\u001b[0m\u001b[0mextraction_prompt\u001b[0m\u001b[0;34m\u001b[0m\n",
       "\u001b[0;34m\u001b[0m                \u001b[0;32mfor\u001b[0m \u001b[0mi\u001b[0m\u001b[0;34m,\u001b[0m \u001b[0;34m(\u001b[0m\u001b[0mold_query\u001b[0m\u001b[0;34m,\u001b[0m \u001b[0mresponse\u001b[0m\u001b[0;34m)\u001b[0m \u001b[0;32min\u001b[0m \u001b[0menumerate\u001b[0m\u001b[0;34m(\u001b[0m\u001b[0mhistory\u001b[0m\u001b[0;34m)\u001b[0m\u001b[0;34m:\u001b[0m\u001b[0;34m\u001b[0m\n",
       "\u001b[0;34m\u001b[0m                    \u001b[0mprompt\u001b[0m \u001b[0;34m+=\u001b[0m \u001b[0mself\u001b[0m\u001b[0;34m.\u001b[0m\u001b[0mbuild_prompt\u001b[0m\u001b[0;34m(\u001b[0m\u001b[0mold_query\u001b[0m\u001b[0;34m,\u001b[0m \u001b[0mi\u001b[0m\u001b[0;34m+\u001b[0m\u001b[0;36m1\u001b[0m\u001b[0;34m)\u001b[0m \u001b[0;34m+\u001b[0m \u001b[0mresponse\u001b[0m \u001b[0;34m+\u001b[0m \u001b[0;34m'\\n'\u001b[0m\u001b[0;34m\u001b[0m\n",
       "\u001b[0;34m\u001b[0m                \u001b[0mprompt\u001b[0m \u001b[0;34m+=\u001b[0m \u001b[0mself\u001b[0m\u001b[0;34m.\u001b[0m\u001b[0mbuild_prompt\u001b[0m\u001b[0;34m(\u001b[0m\u001b[0mquery\u001b[0m\u001b[0;34m,\u001b[0m \u001b[0mlen\u001b[0m\u001b[0;34m(\u001b[0m\u001b[0mhistory\u001b[0m\u001b[0;34m)\u001b[0m \u001b[0;34m+\u001b[0m \u001b[0;36m1\u001b[0m\u001b[0;34m)\u001b[0m\u001b[0;34m\u001b[0m\n",
       "\u001b[0;34m\u001b[0m\u001b[0;34m\u001b[0m\n",
       "\u001b[0;34m\u001b[0m            \u001b[0minput_ids\u001b[0m \u001b[0;34m=\u001b[0m \u001b[0mself\u001b[0m\u001b[0;34m.\u001b[0m\u001b[0minfer_model\u001b[0m\u001b[0;34m.\u001b[0m\u001b[0mpreprocess\u001b[0m\u001b[0;34m(\u001b[0m\u001b[0mprompt\u001b[0m\u001b[0;34m,\u001b[0m \u001b[0madd_special_tokens\u001b[0m\u001b[0;34m=\u001b[0m\u001b[0;32mTrue\u001b[0m\u001b[0;34m)\u001b[0m\u001b[0;34m\u001b[0m\n",
       "\u001b[0;34m\u001b[0m            \u001b[0minput_token_length\u001b[0m \u001b[0;34m=\u001b[0m \u001b[0mlen\u001b[0m\u001b[0;34m(\u001b[0m\u001b[0minput_ids\u001b[0m\u001b[0;34m[\u001b[0m\u001b[0;36m0\u001b[0m\u001b[0;34m]\u001b[0m\u001b[0;34m)\u001b[0m\u001b[0;34m\u001b[0m\n",
       "\u001b[0;34m\u001b[0m            \u001b[0;32mif\u001b[0m \u001b[0minput_token_length\u001b[0m \u001b[0;34m>\u001b[0m \u001b[0;36m2048\u001b[0m\u001b[0;34m:\u001b[0m\u001b[0;34m\u001b[0m\n",
       "\u001b[0;34m\u001b[0m                \u001b[0mprint\u001b[0m\u001b[0;34m(\u001b[0m\u001b[0;34m'inputs are too long, cut.'\u001b[0m\u001b[0;34m)\u001b[0m\u001b[0;34m\u001b[0m\n",
       "\u001b[0;34m\u001b[0m                \u001b[0minput_ids\u001b[0m \u001b[0;34m=\u001b[0m \u001b[0minput_ids\u001b[0m\u001b[0;34m[\u001b[0m\u001b[0;34m:\u001b[0m\u001b[0;34m,\u001b[0m \u001b[0;34m-\u001b[0m\u001b[0;36m2048\u001b[0m\u001b[0;34m:\u001b[0m\u001b[0;34m]\u001b[0m\u001b[0;34m\u001b[0m\n",
       "\u001b[0;34m\u001b[0m\u001b[0;34m\u001b[0m\n",
       "\u001b[0;34m\u001b[0m            \u001b[0moutput_ids\u001b[0m\u001b[0;34m,\u001b[0m \u001b[0mlogits\u001b[0m \u001b[0;34m=\u001b[0m \u001b[0mself\u001b[0m\u001b[0;34m.\u001b[0m\u001b[0minfer_model\u001b[0m\u001b[0;34m.\u001b[0m\u001b[0mgenerate\u001b[0m\u001b[0;34m(\u001b[0m\u001b[0;34m\u001b[0m\n",
       "\u001b[0;34m\u001b[0m                \u001b[0minput_ids\u001b[0m\u001b[0;34m,\u001b[0m \u001b[0mdo_sample\u001b[0m\u001b[0;34m=\u001b[0m\u001b[0;32mFalse\u001b[0m\u001b[0;34m,\u001b[0m \u001b[0mtop_k\u001b[0m\u001b[0;34m=\u001b[0m\u001b[0;36m1\u001b[0m\u001b[0;34m,\u001b[0m\u001b[0;34m\u001b[0m\n",
       "\u001b[0;34m\u001b[0m                \u001b[0mrepetition_penalty\u001b[0m\u001b[0;34m=\u001b[0m\u001b[0;36m1\u001b[0m\u001b[0;34m,\u001b[0m \u001b[0meos_token_id\u001b[0m\u001b[0;34m=\u001b[0m\u001b[0;36m2\u001b[0m\u001b[0;34m,\u001b[0m \u001b[0mpad_token_id\u001b[0m\u001b[0;34m=\u001b[0m\u001b[0;36m0\u001b[0m\u001b[0;34m,\u001b[0m\u001b[0;34m\u001b[0m\n",
       "\u001b[0;34m\u001b[0m                \u001b[0mis_sample_acceleration\u001b[0m\u001b[0;34m=\u001b[0m\u001b[0;32mFalse\u001b[0m\u001b[0;34m,\u001b[0m \u001b[0mstreamer\u001b[0m\u001b[0;34m=\u001b[0m\u001b[0;32mNone\u001b[0m\u001b[0;34m,\u001b[0m\u001b[0;34m\u001b[0m\n",
       "\u001b[0;34m\u001b[0m                \u001b[0mtop_p\u001b[0m\u001b[0;34m=\u001b[0m\u001b[0mtop_p\u001b[0m \u001b[0;32mif\u001b[0m \u001b[0mtop_p\u001b[0m \u001b[0;32melse\u001b[0m \u001b[0;36m1\u001b[0m\u001b[0;34m,\u001b[0m\u001b[0;34m\u001b[0m\n",
       "\u001b[0;34m\u001b[0m                \u001b[0mtemperature\u001b[0m\u001b[0;34m=\u001b[0m\u001b[0mtemperature\u001b[0m \u001b[0;32mif\u001b[0m \u001b[0mtemperature\u001b[0m \u001b[0;32melse\u001b[0m \u001b[0;36m1\u001b[0m\u001b[0;34m,\u001b[0m\u001b[0;34m\u001b[0m\n",
       "\u001b[0;34m\u001b[0m                \u001b[0mmax_length\u001b[0m\u001b[0;34m=\u001b[0m\u001b[0mmax_tokens\u001b[0m \u001b[0;32mif\u001b[0m \u001b[0mmax_tokens\u001b[0m \u001b[0;32melse\u001b[0m \u001b[0;36m2048\u001b[0m\u001b[0;34m,\u001b[0m\u001b[0;34m\u001b[0m\n",
       "\u001b[0;34m\u001b[0m                \u001b[0mreturn_logits\u001b[0m\u001b[0;34m=\u001b[0m\u001b[0;32mTrue\u001b[0m\u001b[0;34m\u001b[0m\n",
       "\u001b[0;34m\u001b[0m                \u001b[0;34m)\u001b[0m\u001b[0;34m\u001b[0m\n",
       "\u001b[0;34m\u001b[0m            \u001b[0moutputs\u001b[0m \u001b[0;34m=\u001b[0m \u001b[0mself\u001b[0m\u001b[0;34m.\u001b[0m\u001b[0minfer_model\u001b[0m\u001b[0;34m.\u001b[0m\u001b[0mpostprocess\u001b[0m\u001b[0;34m(\u001b[0m\u001b[0moutput_ids\u001b[0m\u001b[0;34m)\u001b[0m\u001b[0;34m\u001b[0m\n",
       "\u001b[0;34m\u001b[0m            \u001b[0mresponse\u001b[0m \u001b[0;34m=\u001b[0m \u001b[0moutputs\u001b[0m\u001b[0;34m[\u001b[0m\u001b[0;36m0\u001b[0m\u001b[0;34m]\u001b[0m\u001b[0;34m\u001b[0m\n",
       "\u001b[0;34m\u001b[0m\u001b[0;34m\u001b[0m\n",
       "\u001b[0;34m\u001b[0m            \u001b[0mlogits\u001b[0m \u001b[0;34m=\u001b[0m \u001b[0mlogits\u001b[0m\u001b[0;34m[\u001b[0m\u001b[0;36m0\u001b[0m\u001b[0;34m]\u001b[0m\u001b[0;34m[\u001b[0m\u001b[0;34m:\u001b[0m\u001b[0;34m,\u001b[0m \u001b[0mchoice_tokens\u001b[0m\u001b[0;34m]\u001b[0m\u001b[0;34m\u001b[0m\n",
       "\u001b[0;34m\u001b[0m            \u001b[0mpreds\u001b[0m \u001b[0;34m=\u001b[0m \u001b[0mlogits\u001b[0m\u001b[0;34m.\u001b[0m\u001b[0margmax\u001b[0m\u001b[0;34m(\u001b[0m\u001b[0maxis\u001b[0m\u001b[0;34m=\u001b[0m\u001b[0;34m-\u001b[0m\u001b[0;36m1\u001b[0m\u001b[0;34m)\u001b[0m\u001b[0;34m\u001b[0m\n",
       "\u001b[0;34m\u001b[0m            \u001b[0mpred_choice\u001b[0m \u001b[0;34m=\u001b[0m \u001b[0mchoices\u001b[0m\u001b[0;34m[\u001b[0m\u001b[0mpreds\u001b[0m\u001b[0;34m[\u001b[0m\u001b[0;36m0\u001b[0m\u001b[0;34m]\u001b[0m\u001b[0;34m]\u001b[0m\u001b[0;34m\u001b[0m\n",
       "\u001b[0;34m\u001b[0m\u001b[0;34m\u001b[0m\n",
       "\u001b[0;34m\u001b[0m            \u001b[0mtotal_token_length\u001b[0m \u001b[0;34m=\u001b[0m \u001b[0mlen\u001b[0m\u001b[0;34m(\u001b[0m\u001b[0moutput_ids\u001b[0m\u001b[0;34m[\u001b[0m\u001b[0;36m0\u001b[0m\u001b[0;34m]\u001b[0m\u001b[0;34m)\u001b[0m\u001b[0;34m\u001b[0m\n",
       "\u001b[0;34m\u001b[0m            \u001b[0mhistory\u001b[0m \u001b[0;34m=\u001b[0m \u001b[0mhistory\u001b[0m \u001b[0;34m+\u001b[0m \u001b[0;34m[\u001b[0m\u001b[0;34m(\u001b[0m\u001b[0mquery\u001b[0m\u001b[0;34m,\u001b[0m \u001b[0mresponse\u001b[0m\u001b[0;34m)\u001b[0m\u001b[0;34m]\u001b[0m\u001b[0;34m\u001b[0m\n",
       "\u001b[0;34m\u001b[0m        \u001b[0;32melse\u001b[0m\u001b[0;34m:\u001b[0m\u001b[0;34m\u001b[0m\n",
       "\u001b[0;34m\u001b[0m            \u001b[0mresponse\u001b[0m \u001b[0;34m=\u001b[0m \u001b[0;34m'模型编译未完成，请等待约10至20分钟'\u001b[0m\u001b[0;34m\u001b[0m\n",
       "\u001b[0;34m\u001b[0m            \u001b[0mhistory\u001b[0m \u001b[0;34m=\u001b[0m \u001b[0;32mNone\u001b[0m\u001b[0;34m\u001b[0m\n",
       "\u001b[0;34m\u001b[0m            \u001b[0minput_token_length\u001b[0m \u001b[0;34m=\u001b[0m \u001b[0;32mNone\u001b[0m\u001b[0;34m\u001b[0m\n",
       "\u001b[0;34m\u001b[0m            \u001b[0mtotal_token_length\u001b[0m \u001b[0;34m=\u001b[0m \u001b[0;32mNone\u001b[0m\u001b[0;34m\u001b[0m\n",
       "\u001b[0;34m\u001b[0m            \u001b[0mquery_token_length\u001b[0m \u001b[0;34m=\u001b[0m \u001b[0;32mNone\u001b[0m\u001b[0;34m\u001b[0m\n",
       "\u001b[0;34m\u001b[0m            \u001b[0mpred_choice\u001b[0m \u001b[0;34m=\u001b[0m \u001b[0;32mNone\u001b[0m\u001b[0;34m\u001b[0m\n",
       "\u001b[0;34m\u001b[0m\u001b[0;34m\u001b[0m\n",
       "\u001b[0;34m\u001b[0m        \u001b[0minference_id\u001b[0m \u001b[0;34m=\u001b[0m \u001b[0mstr\u001b[0m\u001b[0;34m(\u001b[0m\u001b[0muuid\u001b[0m\u001b[0;34m.\u001b[0m\u001b[0muuid4\u001b[0m\u001b[0;34m(\u001b[0m\u001b[0;34m)\u001b[0m\u001b[0;34m)\u001b[0m\u001b[0;34m\u001b[0m\n",
       "\u001b[0;34m\u001b[0m        \u001b[0mcreated\u001b[0m \u001b[0;34m=\u001b[0m \u001b[0mint\u001b[0m\u001b[0;34m(\u001b[0m\u001b[0mtime\u001b[0m\u001b[0;34m.\u001b[0m\u001b[0mtime\u001b[0m\u001b[0;34m(\u001b[0m\u001b[0;34m)\u001b[0m\u001b[0;34m)\u001b[0m\u001b[0;34m\u001b[0m\n",
       "\u001b[0;34m\u001b[0m\u001b[0;34m\u001b[0m\n",
       "\u001b[0;34m\u001b[0m        \u001b[0minference_result\u001b[0m \u001b[0;34m=\u001b[0m \u001b[0;34m{\u001b[0m\u001b[0;34m\u001b[0m\n",
       "\u001b[0;34m\u001b[0m            \u001b[0;34m\"id\"\u001b[0m\u001b[0;34m:\u001b[0m \u001b[0minference_id\u001b[0m\u001b[0;34m,\u001b[0m\u001b[0;34m\u001b[0m\n",
       "\u001b[0;34m\u001b[0m            \u001b[0;34m\"created\"\u001b[0m\u001b[0;34m:\u001b[0m \u001b[0mcreated\u001b[0m\u001b[0;34m,\u001b[0m\u001b[0;34m\u001b[0m\n",
       "\u001b[0;34m\u001b[0m            \u001b[0;34m\"choice\"\u001b[0m\u001b[0;34m:\u001b[0m \u001b[0mpred_choice\u001b[0m\u001b[0;34m,\u001b[0m\u001b[0;34m\u001b[0m\n",
       "\u001b[0;34m\u001b[0m            \u001b[0;34m\"prompt_tokens\"\u001b[0m\u001b[0;34m:\u001b[0m \u001b[0mquery_token_length\u001b[0m\u001b[0;34m,\u001b[0m\u001b[0;34m\u001b[0m\n",
       "\u001b[0;34m\u001b[0m            \u001b[0;34m\"total_tokens\"\u001b[0m\u001b[0;34m:\u001b[0m \u001b[0mtotal_token_length\u001b[0m\u001b[0;34m,\u001b[0m\u001b[0;34m\u001b[0m\n",
       "\u001b[0;34m\u001b[0m            \u001b[0;34m\"history\"\u001b[0m\u001b[0;34m:\u001b[0m \u001b[0mhistory\u001b[0m\u001b[0;34m,\u001b[0m\u001b[0;34m\u001b[0m\n",
       "\u001b[0;34m\u001b[0m            \u001b[0;34m\"response\"\u001b[0m\u001b[0;34m:\u001b[0m \u001b[0mresponse\u001b[0m\u001b[0;34m\u001b[0m\n",
       "\u001b[0;34m\u001b[0m        \u001b[0;34m}\u001b[0m\u001b[0;34m\u001b[0m\n",
       "\u001b[0;34m\u001b[0m        \u001b[0;32mreturn\u001b[0m \u001b[0;34m{\u001b[0m\u001b[0;34m\"result\"\u001b[0m\u001b[0;34m:\u001b[0m \u001b[0minference_result\u001b[0m\u001b[0;34m}\u001b[0m\u001b[0;34m\u001b[0m\u001b[0;34m\u001b[0m\u001b[0m\n"
      ]
     },
     "metadata": {},
     "output_type": "display_data"
    }
   ],
   "source": [
    "%pycat $chatglm2_model_path/customize_service.py"
   ]
  },
  {
   "cell_type": "code",
   "execution_count": 26,
   "id": "473d5593-4dde-44e1-8700-79d8526f908c",
   "metadata": {},
   "outputs": [],
   "source": [
    "!cp -rf $chatglm2_model_path/* /home/ma-user/work/chatglm2_6b_lora/mindir"
   ]
  },
  {
   "cell_type": "code",
   "execution_count": 2,
   "id": "5a32d47f-ffef-4467-9c86-7bf89395710c",
   "metadata": {},
   "outputs": [
    {
     "name": "stderr",
     "output_type": "stream",
     "text": [
      "/home/ma-user/anaconda3/envs/MindSpore/lib/python3.9/site-packages/IPython/core/magics/osm.py:417: UserWarning: using dhist requires you to install the `pickleshare` library.\n",
      "  self.shell.db['dhist'] = compress_dhist(dhist)[-100:]\n"
     ]
    },
    {
     "name": "stdout",
     "output_type": "stream",
     "text": [
      "/home/ma-user/work/chatglm2_6b_lora/mindir\n",
      "total 60\n",
      "drwxr-x---  2 ma-user 4096 Dec  6 00:44 \u001b[0m\u001b[01;34m__pycache__\u001b[0m/\n",
      "-rw-r-----  1 ma-user  267 Dec  5 22:48 args.json\n",
      "drwxr-x---  2 ma-user 4096 Dec  5 23:22 \u001b[01;34mcheckpoint_download\u001b[0m/\n",
      "-rw-r-----  1 ma-user  118 Dec  6 00:44 config.ini\n",
      "-rw-r-----  1 ma-user 1613 Dec  6 00:44 config.json\n",
      "-rw-r-----  1 ma-user 5783 Dec  6 00:44 customize_service.py\n",
      "drwxr-x---  2 ma-user 4096 Dec  6 00:44 \u001b[01;34mkernel_meta_3685918538267329408\u001b[0m/\n",
      "drwxr-x---  3 ma-user 4096 Dec  5 23:22 \u001b[01;34mkernel_meta_8797181926308640817\u001b[0m/\n",
      "drwxr-x---  2 ma-user 4096 Dec  6 00:44 \u001b[01;34mkernel_meta_temp_10630640961982476109\u001b[0m/\n",
      "drwxr-x---  2 ma-user 4096 Dec  5 22:48 \u001b[01;34mlogs\u001b[0m/\n",
      "drwxr-x--- 14 ma-user 4096 Dec  5 23:22 \u001b[01;34mmindformers\u001b[0m/\n",
      "drwxr-x---  4 ma-user 4096 Dec  5 22:57 \u001b[01;34mmindir\u001b[0m/\n",
      "drwxr-x---  3 ma-user 4096 Dec  6 00:44 \u001b[01;34moutput\u001b[0m/\n",
      "drwxr-x---  2 ma-user 4096 Dec  5 22:48 \u001b[01;34mtokenizer\u001b[0m/\n"
     ]
    }
   ],
   "source": [
    "%cd /home/ma-user/work/chatglm2_6b_lora/mindir\n",
    "%ll"
   ]
  },
  {
   "cell_type": "code",
   "execution_count": 3,
   "id": "19b66049-d973-4d82-aca0-6fbed9fafae1",
   "metadata": {},
   "outputs": [
    {
     "name": "stderr",
     "output_type": "stream",
     "text": [
      "/usr/local/Ascend/ascend-toolkit/7.0.RC1/python/site-packages/tbe/tvm/contrib/ccec.py:766: DeprecationWarning: invalid escape sequence \\L\n",
      "  if not dirpath.find(\"AppData\\Local\\Temp\"):\n",
      "/usr/local/Ascend/ascend-toolkit/latest/python/site-packages/tbe/dsl/classifier/transdata/transdata_classifier.py:222: DeprecationWarning: invalid escape sequence \\B\n",
      "  \"\"\"\n",
      "/usr/local/Ascend/ascend-toolkit/latest/python/site-packages/tbe/dsl/unify_schedule/vector/transdata/common/graph/transdata_graph_info.py:140: DeprecationWarning: invalid escape sequence \\c\n",
      "  \"\"\"\n",
      "/home/ma-user/anaconda3/envs/MindSpore/lib/python3.9/site-packages/numpy/core/getlimits.py:499: UserWarning: The value of the smallest subnormal for <class 'numpy.float64'> type is zero.\n",
      "  setattr(self, word, getattr(machar, word).flat[0])\n",
      "/home/ma-user/anaconda3/envs/MindSpore/lib/python3.9/site-packages/numpy/core/getlimits.py:499: UserWarning: The value of the smallest subnormal for <class 'numpy.float32'> type is zero.\n",
      "  setattr(self, word, getattr(machar, word).flat[0])\n",
      "/usr/local/Ascend/ascend-toolkit/latest/python/site-packages/tbe/dsl/unify_schedule/extract_image_patches_without_cbuf_schedule.py:317: SyntaxWarning: \"is not\" with a literal. Did you mean \"!=\"?\n",
      "  if _ is not 1:\n",
      "/home/ma-user/anaconda3/envs/MindSpore/lib/python3.9/site-packages/pandas/compat/numpy/__init__.py:10: DeprecationWarning: distutils Version classes are deprecated. Use packaging.version instead.\n",
      "  _nlv = LooseVersion(_np_version)\n",
      "/home/ma-user/anaconda3/envs/MindSpore/lib/python3.9/site-packages/setuptools/_distutils/version.py:346: DeprecationWarning: distutils Version classes are deprecated. Use packaging.version instead.\n",
      "  other = LooseVersion(other)\n",
      "/home/ma-user/anaconda3/envs/MindSpore/lib/python3.9/site-packages/pandas/compat/numpy/function.py:120: DeprecationWarning: distutils Version classes are deprecated. Use packaging.version instead.\n",
      "  if LooseVersion(__version__) >= LooseVersion(\"1.17.0\"):\n"
     ]
    },
    {
     "name": "stdout",
     "output_type": "stream",
     "text": [
      "load and warm up start\n",
      "2023-12-06 00:58:48,670 - mindformers - INFO - config in the yaml file /home/ma-user/work/chatglm2_6b_lora/mindir/checkpoint_download/glm2_6b.yaml are used for tokenizer building.\n",
      "2023-12-06 00:58:48,718 - mindformers - WARNING - Can't find the tokenizer_config.json in the file_dict. The content of file_dict is : {}\n",
      "2023-12-06 00:58:48,719 - mindformers - INFO - build tokenizer class name is: ChatGLM2Tokenizer using args {'bos_token': '<sop>', 'eos_token': '<eop>', 'end_token': '</s>', 'mask_token': '[MASK]', 'gmask_token': '[gMASK]', 'pad_token': '<pad>', 'unk_token': '<unk>', 'vocab_file': '/home/ma-user/work/chatglm2_6b_lora/mindir/checkpoint_download/tokenizer.model'}.\n"
     ]
    },
    {
     "name": "stderr",
     "output_type": "stream",
     "text": [
      "WARNING:root:mslite ascendc custom kernel path not found\n",
      "/usr/local/Ascend/ascend-toolkit/latest/python/site-packages/tbe/dsl/unify_schedule/extract_image_patches_without_cbuf_schedule.py:317: SyntaxWarning: \"is not\" with a literal. Did you mean \"!=\"?\n",
      "  if _ is not 1:\n",
      "/usr/local/Ascend/ascend-toolkit/latest/python/site-packages/tbe/dsl/unify_schedule/extract_image_patches_without_cbuf_schedule.py:317: SyntaxWarning: \"is not\" with a literal. Did you mean \"!=\"?\n",
      "  if _ is not 1:\n",
      "/usr/local/Ascend/ascend-toolkit/latest/python/site-packages/tbe/dsl/unify_schedule/extract_image_patches_without_cbuf_schedule.py:317: SyntaxWarning: \"is not\" with a literal. Did you mean \"!=\"?\n",
      "  if _ is not 1:\n",
      "/usr/local/Ascend/ascend-toolkit/latest/python/site-packages/tbe/dsl/unify_schedule/extract_image_patches_without_cbuf_schedule.py:317: SyntaxWarning: \"is not\" with a literal. Did you mean \"!=\"?\n",
      "  if _ is not 1:\n",
      "/usr/local/Ascend/ascend-toolkit/latest/python/site-packages/tbe/dsl/unify_schedule/extract_image_patches_without_cbuf_schedule.py:317: SyntaxWarning: \"is not\" with a literal. Did you mean \"!=\"?\n",
      "  if _ is not 1:\n",
      "/usr/local/Ascend/ascend-toolkit/latest/python/site-packages/tbe/dsl/unify_schedule/extract_image_patches_without_cbuf_schedule.py:317: SyntaxWarning: \"is not\" with a literal. Did you mean \"!=\"?\n",
      "  if _ is not 1:\n",
      "/usr/local/Ascend/ascend-toolkit/latest/python/site-packages/tbe/dsl/unify_schedule/extract_image_patches_without_cbuf_schedule.py:317: SyntaxWarning: \"is not\" with a literal. Did you mean \"!=\"?\n",
      "  if _ is not 1:\n",
      "/usr/local/Ascend/ascend-toolkit/latest/python/site-packages/tbe/dsl/unify_schedule/extract_image_patches_without_cbuf_schedule.py:317: SyntaxWarning: \"is not\" with a literal. Did you mean \"!=\"?\n",
      "  if _ is not 1:\n",
      "/usr/local/Ascend/ascend-toolkit/latest/python/site-packages/tbe/dsl/unify_schedule/extract_image_patches_without_cbuf_schedule.py:317: SyntaxWarning: \"is not\" with a literal. Did you mean \"!=\"?\n",
      "  if _ is not 1:\n",
      "/usr/local/Ascend/ascend-toolkit/latest/python/site-packages/tbe/dsl/unify_schedule/extract_image_patches_without_cbuf_schedule.py:317: SyntaxWarning: \"is not\" with a literal. Did you mean \"!=\"?\n",
      "  if _ is not 1:\n",
      "/usr/local/Ascend/ascend-toolkit/latest/python/site-packages/tbe/dsl/unify_schedule/extract_image_patches_without_cbuf_schedule.py:317: SyntaxWarning: \"is not\" with a literal. Did you mean \"!=\"?\n",
      "  if _ is not 1:\n",
      "/usr/local/Ascend/ascend-toolkit/latest/python/site-packages/tbe/dsl/unify_schedule/extract_image_patches_without_cbuf_schedule.py:317: SyntaxWarning: \"is not\" with a literal. Did you mean \"!=\"?\n",
      "  if _ is not 1:\n",
      "/usr/local/Ascend/ascend-toolkit/latest/python/site-packages/tbe/dsl/unify_schedule/extract_image_patches_without_cbuf_schedule.py:317: SyntaxWarning: \"is not\" with a literal. Did you mean \"!=\"?\n",
      "  if _ is not 1:\n",
      "/usr/local/Ascend/ascend-toolkit/latest/python/site-packages/tbe/dsl/unify_schedule/extract_image_patches_without_cbuf_schedule.py:317: SyntaxWarning: \"is not\" with a literal. Did you mean \"!=\"?\n",
      "  if _ is not 1:\n",
      "/usr/local/Ascend/ascend-toolkit/latest/python/site-packages/tbe/dsl/unify_schedule/extract_image_patches_without_cbuf_schedule.py:317: SyntaxWarning: \"is not\" with a literal. Did you mean \"!=\"?\n",
      "  if _ is not 1:\n",
      "/usr/local/Ascend/ascend-toolkit/latest/python/site-packages/tbe/dsl/unify_schedule/extract_image_patches_without_cbuf_schedule.py:317: SyntaxWarning: \"is not\" with a literal. Did you mean \"!=\"?\n",
      "  if _ is not 1:\n",
      "/usr/local/Ascend/ascend-toolkit/latest/python/site-packages/tbe/dsl/unify_schedule/extract_image_patches_without_cbuf_schedule.py:317: SyntaxWarning: \"is not\" with a literal. Did you mean \"!=\"?\n",
      "  if _ is not 1:\n",
      "WARNING:root:mslite ascendc custom kernel path not found\n"
     ]
    }
   ],
   "source": [
    "from customize_service import LlmService\n",
    "\n",
    "llm = LlmService(\"/home/ma-user/work/chatglm2_6b_lora/mindir\", \"/home/ma-user/work/chatglm2_6b_lora/mindir\")"
   ]
  },
  {
   "cell_type": "code",
   "execution_count": 5,
   "id": "c01afd7f-3746-4351-bb24-b1664d00cded",
   "metadata": {},
   "outputs": [
    {
     "name": "stdout",
     "output_type": "stream",
     "text": [
      "('', 404)\n",
      "load and warm up end\n"
     ]
    },
    {
     "name": "stderr",
     "output_type": "stream",
     "text": [
      "sys:1: ResourceWarning: Unclosed socket <zmq.Socket(zmq.PUSH) at 0xfffe861748e0>\n"
     ]
    }
   ],
   "source": [
    "print(llm.health())"
   ]
  },
  {
   "cell_type": "code",
   "execution_count": 6,
   "id": "8caea2f4-7668-467b-9b21-2e31016fb0e9",
   "metadata": {},
   "outputs": [],
   "source": [
    "post_prompt = {\n",
    "    \"prompt\": \"请问下面描述的是什么类型的临床实验筛选标准？\\n试验前3个月每日吸烟量多于5支者或使用其他含有等量尼古丁的烟草制品。\\n选项：\\nA.实验室检查 \\nB.受体状态 \\nC.特殊病人特征 \\nD.吸烟状况\",\n",
    "    \"choices\": [\"A\", \"B\", \"C\", \"D\"]\n",
    "}"
   ]
  },
  {
   "cell_type": "code",
   "execution_count": 8,
   "id": "10653418-1cdd-4153-8219-70d592bef18a",
   "metadata": {},
   "outputs": [],
   "source": [
    "import json\n",
    "import io\n",
    "\n",
    "post_data = {\"file_name\":{\"input_txt\": io.BytesIO(json.dumps(post_prompt).encode())}}"
   ]
  },
  {
   "cell_type": "code",
   "execution_count": 9,
   "id": "673faa26-a19d-43da-bc36-491b72a99062",
   "metadata": {},
   "outputs": [
    {
     "data": {
      "text/plain": [
       "{'prompt': '请问下面描述的是什么类型的临床实验筛选标准？\\n试验前3个月每日吸烟量多于5支者或使用其他含有等量尼古丁的烟草制品。\\n选项：\\nA.实验室检查 \\nB.受体状态 \\nC.特殊病人特征 \\nD.吸烟状况',\n",
       " 'choices': ['A', 'B', 'C', 'D']}"
      ]
     },
     "execution_count": 9,
     "metadata": {},
     "output_type": "execute_result"
    }
   ],
   "source": [
    "data = llm._preprocess(post_data)\n",
    "data"
   ]
  },
  {
   "cell_type": "code",
   "execution_count": 10,
   "id": "72bc6c1f-de85-4406-a093-49d66ee48d3d",
   "metadata": {},
   "outputs": [
    {
     "data": {
      "text/plain": [
       "{'result': {'id': '87e5728d-a04d-4863-9a88-6d9d88dbccd2',\n",
       "  'created': 1701796298,\n",
       "  'choice': 'D',\n",
       "  'prompt_tokens': 66,\n",
       "  'total_tokens': 95,\n",
       "  'history': [('请问下面描述的是什么类型的临床实验筛选标准？\\n试验前3个月每日吸烟量多于5支者或使用其他含有等量尼古丁的烟草制品。\\n选项：\\nA.实验室检查 \\nB.受体状态 \\nC.特殊病人特征 \\nD.吸烟状况',\n",
       "    '【只需要给出对应选项，不需要给出原因】\\n[Round 1]\\n\\n问：请问下面描述的是什么类型的临床实验筛选标准？\\n试验前3个月每日吸烟量多于5支者或使用其他含有等量尼古丁的烟草制品。\\n选项：\\nA.实验室检查 \\nB.受体状态 \\nC.特殊病人特征 \\nD.吸烟状况\\n\\n答： D.吸烟状况')],\n",
       "  'response': '【只需要给出对应选项，不需要给出原因】\\n[Round 1]\\n\\n问：请问下面描述的是什么类型的临床实验筛选标准？\\n试验前3个月每日吸烟量多于5支者或使用其他含有等量尼古丁的烟草制品。\\n选项：\\nA.实验室检查 \\nB.受体状态 \\nC.特殊病人特征 \\nD.吸烟状况\\n\\n答： D.吸烟状况'}}"
      ]
     },
     "execution_count": 10,
     "metadata": {},
     "output_type": "execute_result"
    }
   ],
   "source": [
    "data = llm._inference(data)\n",
    "data"
   ]
  },
  {
   "cell_type": "code",
   "execution_count": 11,
   "id": "d4393f17-7337-4137-94c5-3242a1b45610",
   "metadata": {},
   "outputs": [],
   "source": [
    "!rm -rf __pycache__/ kernel_meta_* mindir/chatglm2_6b_seq2048_bs1_full_variables/data_0_* mindir/chatglm2_6b_seq2048_bs1_inc_variables/data_0_*"
   ]
  },
  {
   "cell_type": "code",
   "execution_count": 12,
   "id": "333a644c-ee5a-4d13-92be-dad6b30b6de1",
   "metadata": {},
   "outputs": [
    {
     "name": "stdout",
     "output_type": "stream",
     "text": [
      "total 44\n",
      "-rw-r-----  1 ma-user  267 Dec  5 22:48 args.json\n",
      "drwxr-x---  2 ma-user 4096 Dec  5 23:22 \u001b[0m\u001b[01;34mcheckpoint_download\u001b[0m/\n",
      "-rw-r-----  1 ma-user  118 Dec  6 00:44 config.ini\n",
      "-rw-r-----  1 ma-user 1613 Dec  6 00:44 config.json\n",
      "-rw-r-----  1 ma-user 5783 Dec  6 00:44 customize_service.py\n",
      "drwxr-x---  2 ma-user 4096 Dec  5 22:48 \u001b[01;34mlogs\u001b[0m/\n",
      "drwxr-x--- 14 ma-user 4096 Dec  5 23:22 \u001b[01;34mmindformers\u001b[0m/\n",
      "drwxr-x---  4 ma-user 4096 Dec  5 22:57 \u001b[01;34mmindir\u001b[0m/\n",
      "drwxr-x---  3 ma-user 4096 Dec  6 00:44 \u001b[01;34moutput\u001b[0m/\n",
      "drwxr-x---  2 ma-user 4096 Dec  5 22:48 \u001b[01;34mtokenizer\u001b[0m/\n"
     ]
    }
   ],
   "source": [
    "%ll"
   ]
  },
  {
   "cell_type": "code",
   "execution_count": 13,
   "id": "2a8fe6aa-1f29-494c-84b2-639a201e9fb3",
   "metadata": {},
   "outputs": [
    {
     "name": "stderr",
     "output_type": "stream",
     "text": [
      "INFO:root:Using MoXing-v2.2.3.2c7f2141-2c7f2141\n",
      "INFO:root:Using OBS-Python-SDK-3.20.9.1\n",
      "INFO:root:Using OBS-C-SDK-2.23.1\n",
      "/home/ma-user/anaconda3/envs/MindSpore/lib/python3.9/site-packages/moxing/framework/cloud_utils.py:169: ResourceWarning: unclosed <socket.socket fd=67, family=AddressFamily.AF_INET, type=SocketKind.SOCK_STREAM, proto=6, laddr=('127.0.0.1', 43578), raddr=('127.0.0.1', 5208)>\n",
      "  ak, sk, session_token = _decrypt_by_sidecar(ak, sk, session_token, modelarts_scc_port)\n",
      "INFO:root:List OBS time cost: 9.65 seconds.\n",
      "/home/ma-user/anaconda3/envs/MindSpore/lib/python3.9/site-packages/moxing/framework/cloud_utils.py:169: ResourceWarning: unclosed <socket.socket fd=191, family=AddressFamily.AF_INET, type=SocketKind.SOCK_STREAM, proto=6, laddr=('127.0.0.1', 45576), raddr=('127.0.0.1', 5208)>\n",
      "  ak, sk, session_token = _decrypt_by_sidecar(ak, sk, session_token, modelarts_scc_port)\n",
      "/home/ma-user/anaconda3/envs/MindSpore/lib/python3.9/site-packages/moxing/framework/cloud_utils.py:169: ResourceWarning: unclosed <socket.socket fd=195, family=AddressFamily.AF_INET, type=SocketKind.SOCK_STREAM, proto=6, laddr=('127.0.0.1', 45578), raddr=('127.0.0.1', 5208)>\n",
      "  ak, sk, session_token = _decrypt_by_sidecar(ak, sk, session_token, modelarts_scc_port)\n",
      "/home/ma-user/anaconda3/envs/MindSpore/lib/python3.9/site-packages/moxing/framework/cloud_utils.py:169: ResourceWarning: unclosed <socket.socket fd=207, family=AddressFamily.AF_INET, type=SocketKind.SOCK_STREAM, proto=6, laddr=('127.0.0.1', 45584), raddr=('127.0.0.1', 5208)>\n",
      "  ak, sk, session_token = _decrypt_by_sidecar(ak, sk, session_token, modelarts_scc_port)\n",
      "/home/ma-user/anaconda3/envs/MindSpore/lib/python3.9/site-packages/moxing/framework/cloud_utils.py:169: ResourceWarning: unclosed <socket.socket fd=203, family=AddressFamily.AF_INET, type=SocketKind.SOCK_STREAM, proto=6, laddr=('127.0.0.1', 45582), raddr=('127.0.0.1', 5208)>\n",
      "  ak, sk, session_token = _decrypt_by_sidecar(ak, sk, session_token, modelarts_scc_port)\n",
      "/home/ma-user/anaconda3/envs/MindSpore/lib/python3.9/site-packages/moxing/framework/file/src/obs/client.py:172: ResourceWarning: unclosed file <_io.BufferedReader name='/home/ma-user/work/chatglm2_6b_lora/mindir/output/log/rank_0/error.log'>\n",
      "  ret = func(*args, **kwargs)\n",
      "/home/ma-user/anaconda3/envs/MindSpore/lib/python3.9/site-packages/moxing/framework/cloud_utils.py:169: ResourceWarning: unclosed <socket.socket fd=199, family=AddressFamily.AF_INET, type=SocketKind.SOCK_STREAM, proto=6, laddr=('127.0.0.1', 45580), raddr=('127.0.0.1', 5208)>\n",
      "  ak, sk, session_token = _decrypt_by_sidecar(ak, sk, session_token, modelarts_scc_port)\n",
      "/home/ma-user/anaconda3/envs/MindSpore/lib/python3.9/site-packages/moxing/framework/cloud_utils.py:169: ResourceWarning: unclosed <socket.socket fd=187, family=AddressFamily.AF_INET, type=SocketKind.SOCK_STREAM, proto=6, laddr=('127.0.0.1', 45574), raddr=('127.0.0.1', 5208)>\n",
      "  ak, sk, session_token = _decrypt_by_sidecar(ak, sk, session_token, modelarts_scc_port)\n",
      "INFO:root:Copy parallel total time cost: 90.11 seconds.\n"
     ]
    }
   ],
   "source": [
    "import moxing as mox\n",
    "\n",
    "mox.file.copy_parallel(\"/home/ma-user/work/chatglm2_6b_lora/mindir\", \"obs://chatglm-3df5/inference\")"
   ]
  },
  {
   "cell_type": "code",
   "execution_count": 16,
   "id": "708b672b-1adb-48bd-a0ac-b973ca1990cb",
   "metadata": {},
   "outputs": [
    {
     "name": "stderr",
     "output_type": "stream",
     "text": [
      "ERROR:root:Failed to call:\n",
      "\tfunc=<bound method ObsClient.putContent of <moxing.framework.file.file_io_obs_wrapper.ObsClientDecorated object at 0xfffe8617a7c0>>\n",
      "\targs=('chatglm2800', 'model/')\n",
      "\tkwargs={content:None, headers:{'acl': 'bucket-owne, }\n",
      "ERROR:root:\n",
      "\tstat:404\n",
      "\terrorCode:NoSuchBucket\n",
      "\terrorMessage:The specified bucket does not exist\n",
      "\treason:Not Found\n",
      "\trequest-id:0000018C3B14F1720B2AECB016480930\n",
      "\tretry:0\n"
     ]
    },
    {
     "ename": "MoxFileNotExistsException",
     "evalue": "[Errno {'status': 404, 'reason': 'Not Found', 'errorCode': 'NoSuchBucket', 'errorMessage': 'The specified bucket does not exist', 'body': None, 'requestId': '0000018C3B14F1720B2AECB016480930', 'hostId': 'IYfm0/yKxaK2sL3j+PY6lfzay3/iJlF14ErzQaGf3G5QY7sg1xBPueqfOqmK9oWx', 'header': [('date', 'Tue, 05 Dec 2023 17:44:37 GMT'), ('content-type', 'application/xml'), ('content-length', '321'), ('connection', 'close'), ('x-reserved', 'amazon, aws and amazon web services are trademarks or registered trademarks of Amazon Technologies, Inc'), ('request-id', '0000018C3B14F1720B2AECB016480930'), ('id-2', '32AAAQAAEAABAAAQAAEAABAAAQAAEAABCS0z11K9ot5Sopnzb0x+6Vt7vH2MjQmt')]}] file or directory or bucket not found.",
     "output_type": "error",
     "traceback": [
      "\u001b[0;31m---------------------------------------------------------------------------\u001b[0m",
      "\u001b[0;31mMoxFileNotExistsException\u001b[0m                 Traceback (most recent call last)",
      "Cell \u001b[0;32mIn[16], line 3\u001b[0m\n\u001b[1;32m      1\u001b[0m \u001b[38;5;28;01mimport\u001b[39;00m \u001b[38;5;21;01mmoxing\u001b[39;00m \u001b[38;5;28;01mas\u001b[39;00m \u001b[38;5;21;01mmox\u001b[39;00m\n\u001b[0;32m----> 3\u001b[0m \u001b[43mmox\u001b[49m\u001b[38;5;241;43m.\u001b[39;49m\u001b[43mfile\u001b[49m\u001b[38;5;241;43m.\u001b[39;49m\u001b[43mcopy_parallel\u001b[49m\u001b[43m(\u001b[49m\u001b[38;5;124;43m\"\u001b[39;49m\u001b[38;5;124;43m/home/ma-user/work/chatglm2_6b_lora/mindir\u001b[39;49m\u001b[38;5;124;43m\"\u001b[39;49m\u001b[43m,\u001b[49m\u001b[43m \u001b[49m\u001b[38;5;124;43m\"\u001b[39;49m\u001b[38;5;124;43mobs://chatglm2800/model/\u001b[39;49m\u001b[38;5;124;43m\"\u001b[39;49m\u001b[43m)\u001b[49m\n",
      "File \u001b[0;32m~/anaconda3/envs/MindSpore/lib/python3.9/site-packages/moxing/framework/util/runtime.py:319\u001b[0m, in \u001b[0;36mCallStats.__call__.<locals>.wrapped_func\u001b[0;34m(*args, **kwargs)\u001b[0m\n\u001b[1;32m    316\u001b[0m \u001b[38;5;129m@wraps\u001b[39m(func)\n\u001b[1;32m    317\u001b[0m \u001b[38;5;28;01mdef\u001b[39;00m \u001b[38;5;21mwrapped_func\u001b[39m(\u001b[38;5;241m*\u001b[39margs, \u001b[38;5;241m*\u001b[39m\u001b[38;5;241m*\u001b[39mkwargs):\n\u001b[1;32m    318\u001b[0m   \u001b[38;5;28;01mif\u001b[39;00m _CALL_STATS \u001b[38;5;129;01mis\u001b[39;00m \u001b[38;5;28;01mNone\u001b[39;00m \u001b[38;5;129;01mor\u001b[39;00m func\u001b[38;5;241m.\u001b[39m\u001b[38;5;18m__qualname__\u001b[39m \u001b[38;5;129;01mnot\u001b[39;00m \u001b[38;5;129;01min\u001b[39;00m _RECORD_FUNC_NAMES:\n\u001b[0;32m--> 319\u001b[0m     \u001b[38;5;28;01mreturn\u001b[39;00m \u001b[43mfunc\u001b[49m\u001b[43m(\u001b[49m\u001b[38;5;241;43m*\u001b[39;49m\u001b[43margs\u001b[49m\u001b[43m,\u001b[49m\u001b[43m \u001b[49m\u001b[38;5;241;43m*\u001b[39;49m\u001b[38;5;241;43m*\u001b[39;49m\u001b[43mkwargs\u001b[49m\u001b[43m)\u001b[49m  \u001b[38;5;66;03m# not recording\u001b[39;00m\n\u001b[1;32m    321\u001b[0m   func_name \u001b[38;5;241m=\u001b[39m _RECORD_FUNC_NAMES[func\u001b[38;5;241m.\u001b[39m\u001b[38;5;18m__qualname__\u001b[39m]\n\u001b[1;32m    322\u001b[0m   tic \u001b[38;5;241m=\u001b[39m time\u001b[38;5;241m.\u001b[39mtime()\n",
      "File \u001b[0;32m~/anaconda3/envs/MindSpore/lib/python3.9/site-packages/moxing/framework/file/file_io.py:3150\u001b[0m, in \u001b[0;36mcopy_parallel\u001b[0;34m(src_url, dst_url, file_list, threads, is_processing, use_queue, atom, skip_not_found, create_obs_dir, list_use_parallel)\u001b[0m\n\u001b[1;32m   3147\u001b[0m   file_list \u001b[38;5;241m=\u001b[39m list_directory(src_url, recursive\u001b[38;5;241m=\u001b[39m\u001b[38;5;28;01mTrue\u001b[39;00m, remove_sep\u001b[38;5;241m=\u001b[39m\u001b[38;5;28;01mFalse\u001b[39;00m, use_parallel\u001b[38;5;241m=\u001b[39mlist_use_parallel, threads\u001b[38;5;241m=\u001b[39mthreads)\n\u001b[1;32m   3149\u001b[0m \u001b[38;5;66;03m# do not make_dirs before get file_list, it effects the results of file_list when dst is sub_dir of src\u001b[39;00m\n\u001b[0;32m-> 3150\u001b[0m \u001b[43mmake_dirs\u001b[49m\u001b[43m(\u001b[49m\u001b[43mdst_url\u001b[49m\u001b[43m)\u001b[49m\n\u001b[1;32m   3152\u001b[0m \u001b[38;5;66;03m# Create all dirs in file_list\u001b[39;00m\n\u001b[1;32m   3153\u001b[0m isdir_func \u001b[38;5;241m=\u001b[39m os\u001b[38;5;241m.\u001b[39mpath\u001b[38;5;241m.\u001b[39misdir \u001b[38;5;28;01mif\u001b[39;00m src_local \u001b[38;5;28;01melse\u001b[39;00m \u001b[38;5;28;01mlambda\u001b[39;00m sp: sp\u001b[38;5;241m.\u001b[39mendswith(_PROTOCOL_SEP)\n",
      "File \u001b[0;32m~/anaconda3/envs/MindSpore/lib/python3.9/site-packages/moxing/framework/util/runtime.py:319\u001b[0m, in \u001b[0;36mCallStats.__call__.<locals>.wrapped_func\u001b[0;34m(*args, **kwargs)\u001b[0m\n\u001b[1;32m    316\u001b[0m \u001b[38;5;129m@wraps\u001b[39m(func)\n\u001b[1;32m    317\u001b[0m \u001b[38;5;28;01mdef\u001b[39;00m \u001b[38;5;21mwrapped_func\u001b[39m(\u001b[38;5;241m*\u001b[39margs, \u001b[38;5;241m*\u001b[39m\u001b[38;5;241m*\u001b[39mkwargs):\n\u001b[1;32m    318\u001b[0m   \u001b[38;5;28;01mif\u001b[39;00m _CALL_STATS \u001b[38;5;129;01mis\u001b[39;00m \u001b[38;5;28;01mNone\u001b[39;00m \u001b[38;5;129;01mor\u001b[39;00m func\u001b[38;5;241m.\u001b[39m\u001b[38;5;18m__qualname__\u001b[39m \u001b[38;5;129;01mnot\u001b[39;00m \u001b[38;5;129;01min\u001b[39;00m _RECORD_FUNC_NAMES:\n\u001b[0;32m--> 319\u001b[0m     \u001b[38;5;28;01mreturn\u001b[39;00m \u001b[43mfunc\u001b[49m\u001b[43m(\u001b[49m\u001b[38;5;241;43m*\u001b[39;49m\u001b[43margs\u001b[49m\u001b[43m,\u001b[49m\u001b[43m \u001b[49m\u001b[38;5;241;43m*\u001b[39;49m\u001b[38;5;241;43m*\u001b[39;49m\u001b[43mkwargs\u001b[49m\u001b[43m)\u001b[49m  \u001b[38;5;66;03m# not recording\u001b[39;00m\n\u001b[1;32m    321\u001b[0m   func_name \u001b[38;5;241m=\u001b[39m _RECORD_FUNC_NAMES[func\u001b[38;5;241m.\u001b[39m\u001b[38;5;18m__qualname__\u001b[39m]\n\u001b[1;32m    322\u001b[0m   tic \u001b[38;5;241m=\u001b[39m time\u001b[38;5;241m.\u001b[39mtime()\n",
      "File \u001b[0;32m~/anaconda3/envs/MindSpore/lib/python3.9/site-packages/moxing/framework/file/file_io.py:2150\u001b[0m, in \u001b[0;36mmake_dirs\u001b[0;34m(url)\u001b[0m\n\u001b[1;32m   2147\u001b[0m     Path(object_key)\u001b[38;5;241m.\u001b[39mmkdir(parents\u001b[38;5;241m=\u001b[39m\u001b[38;5;28;01mTrue\u001b[39;00m, exist_ok\u001b[38;5;241m=\u001b[39m\u001b[38;5;28;01mTrue\u001b[39;00m)\n\u001b[1;32m   2148\u001b[0m   \u001b[38;5;28;01mreturn\u001b[39;00m\n\u001b[0;32m-> 2150\u001b[0m \u001b[43m_make_dirs_obs\u001b[49m\u001b[43m(\u001b[49m\u001b[43mbucket_name\u001b[49m\u001b[43m,\u001b[49m\u001b[43m \u001b[49m\u001b[43mobject_key\u001b[49m\u001b[43m)\u001b[49m\n",
      "File \u001b[0;32m~/anaconda3/envs/MindSpore/lib/python3.9/site-packages/moxing/framework/file/file_io.py:2163\u001b[0m, in \u001b[0;36m_make_dirs_obs\u001b[0;34m(bucket_name, object_key)\u001b[0m\n\u001b[1;32m   2161\u001b[0m \u001b[38;5;66;03m# Create directory\u001b[39;00m\n\u001b[1;32m   2162\u001b[0m headers \u001b[38;5;241m=\u001b[39m _get_put_object_header()\n\u001b[0;32m-> 2163\u001b[0m \u001b[43m_retryable_call\u001b[49m\u001b[43m(\u001b[49m\u001b[38;5;124;43m'\u001b[39;49m\u001b[38;5;124;43mputContent\u001b[39;49m\u001b[38;5;124;43m'\u001b[39;49m\u001b[43m,\u001b[49m\u001b[43m \u001b[49m\u001b[43mbucket_name\u001b[49m\u001b[43m,\u001b[49m\u001b[43m \u001b[49m\u001b[43mobject_key\u001b[49m\u001b[43m \u001b[49m\u001b[38;5;241;43m+\u001b[39;49m\u001b[43m \u001b[49m\u001b[43m_PROTOCOL_SEP\u001b[49m\u001b[43m,\u001b[49m\u001b[43m \u001b[49m\u001b[43mcontent\u001b[49m\u001b[38;5;241;43m=\u001b[39;49m\u001b[38;5;28;43;01mNone\u001b[39;49;00m\u001b[43m,\u001b[49m\n\u001b[1;32m   2164\u001b[0m \u001b[43m                \u001b[49m\u001b[43mheaders\u001b[49m\u001b[38;5;241;43m=\u001b[39;49m\u001b[43mheaders\u001b[49m\u001b[43m)\u001b[49m\n",
      "File \u001b[0;32m~/anaconda3/envs/MindSpore/lib/python3.9/site-packages/moxing/framework/file/file_io.py:854\u001b[0m, in \u001b[0;36m_retryable_call\u001b[0;34m(func_name, *args, **kwargs)\u001b[0m\n\u001b[1;32m    852\u001b[0m \u001b[38;5;28;01melse\u001b[39;00m:\n\u001b[1;32m    853\u001b[0m   \u001b[38;5;28;01mif\u001b[39;00m resp\u001b[38;5;241m.\u001b[39mstatus \u001b[38;5;241m==\u001b[39m \u001b[38;5;241m404\u001b[39m \u001b[38;5;129;01mand\u001b[39;00m resp\u001b[38;5;241m.\u001b[39merrorCode \u001b[38;5;129;01min\u001b[39;00m (\u001b[38;5;124m'\u001b[39m\u001b[38;5;124mNoSuchKey\u001b[39m\u001b[38;5;124m'\u001b[39m, \u001b[38;5;124m'\u001b[39m\u001b[38;5;124mNoSuchBucket\u001b[39m\u001b[38;5;124m'\u001b[39m):\n\u001b[0;32m--> 854\u001b[0m     \u001b[38;5;28;01mraise\u001b[39;00m MoxFileNotExistsException(resp, \u001b[38;5;124m'\u001b[39m\u001b[38;5;124mfile or directory or bucket not found.\u001b[39m\u001b[38;5;124m'\u001b[39m)\n\u001b[1;32m    855\u001b[0m   \u001b[38;5;28;01melse\u001b[39;00m:\n\u001b[1;32m    856\u001b[0m     \u001b[38;5;28;01mraise\u001b[39;00m MoxFileRespException(\n\u001b[1;32m    857\u001b[0m       resp, \u001b[38;5;124m'\u001b[39m\u001b[38;5;124mError occurs when accessing to OBS.\u001b[39m\u001b[38;5;130;01m\\n\u001b[39;00m\u001b[38;5;124m'\u001b[39m\n\u001b[1;32m    858\u001b[0m             \u001b[38;5;124m'\u001b[39m\u001b[38;5;130;01m\\t\u001b[39;00m\u001b[38;5;124mPlease check the *stat* and *errorCode* above.\u001b[39m\u001b[38;5;130;01m\\n\u001b[39;00m\u001b[38;5;124m'\u001b[39m\n\u001b[1;32m    859\u001b[0m             \u001b[38;5;124m'\u001b[39m\u001b[38;5;130;01m\\t\u001b[39;00m\u001b[38;5;124mYou can find some error solutions at: \u001b[39m\u001b[38;5;124m'\u001b[39m\n\u001b[1;32m    860\u001b[0m             \u001b[38;5;124m'\u001b[39m\u001b[38;5;124mhttps://support.huaweicloud.com/sdk-python-devg-obs/obs_22_1502.html\u001b[39m\u001b[38;5;124m'\u001b[39m)\n",
      "\u001b[0;31mMoxFileNotExistsException\u001b[0m: [Errno {'status': 404, 'reason': 'Not Found', 'errorCode': 'NoSuchBucket', 'errorMessage': 'The specified bucket does not exist', 'body': None, 'requestId': '0000018C3B14F1720B2AECB016480930', 'hostId': 'IYfm0/yKxaK2sL3j+PY6lfzay3/iJlF14ErzQaGf3G5QY7sg1xBPueqfOqmK9oWx', 'header': [('date', 'Tue, 05 Dec 2023 17:44:37 GMT'), ('content-type', 'application/xml'), ('content-length', '321'), ('connection', 'close'), ('x-reserved', 'amazon, aws and amazon web services are trademarks or registered trademarks of Amazon Technologies, Inc'), ('request-id', '0000018C3B14F1720B2AECB016480930'), ('id-2', '32AAAQAAEAABAAAQAAEAABAAAQAAEAABCS0z11K9ot5Sopnzb0x+6Vt7vH2MjQmt')]}] file or directory or bucket not found."
     ]
    }
   ],
   "source": [
    "import moxing as mox\n",
    "\n",
    "mox.file.copy_parallel(\"/home/ma-user/work/chatglm2_6b_lora/mindir\", \"obs://chatglm2800/model/\")"
   ]
  },
  {
   "cell_type": "code",
   "execution_count": null,
   "id": "938f6ca2-745c-4a01-b953-b818837efaca",
   "metadata": {},
   "outputs": [],
   "source": []
  }
 ],
 "metadata": {
  "kernelspec": {
   "display_name": "MindSpore",
   "language": "python",
   "name": "mindspore"
  },
  "language_info": {
   "codemirror_mode": {
    "name": "ipython",
    "version": 3
   },
   "file_extension": ".py",
   "mimetype": "text/x-python",
   "name": "python",
   "nbconvert_exporter": "python",
   "pygments_lexer": "ipython3",
   "version": "3.9.10"
  }
 },
 "nbformat": 4,
 "nbformat_minor": 5
}
